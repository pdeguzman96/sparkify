{
 "cells": [
  {
   "cell_type": "markdown",
   "metadata": {},
   "source": [
    "# Sparkify\n",
    "\n",
    "## PySpark Machine Learning Project"
   ]
  },
  {
   "cell_type": "markdown",
   "metadata": {},
   "source": [
    "Sparkify is a fictional music-streaming company, and in this notebook, I'm going to analyze Sparkify's streaming data to predict customers that are likely to churn.\n",
    "\n",
    "Udacity provided two separate datasets, a mini-version (128MB), which was used in this notebook, and a larger version (12GB), which was used in an AWS EMR cluster.\n",
    "\n",
    "Check out the accompanying Medium Article (linked in my [Github Repo](https://github.com/pdeguzman96/sparkify)) for a write up and reflection!"
   ]
  },
  {
   "cell_type": "markdown",
   "metadata": {},
   "source": [
    "## Importing Libraries & Data"
   ]
  },
  {
   "cell_type": "code",
   "execution_count": 1,
   "metadata": {},
   "outputs": [],
   "source": [
    "import pandas as pd\n",
    "import matplotlib.pyplot as plt\n",
    "%matplotlib inline\n",
    "import seaborn as sns\n",
    "import numpy as np\n",
    "\n",
    "from pyspark.sql import SparkSession, Window\n",
    "from pyspark.sql.functions import count, col, udf, desc, max as Fmax, lag, struct, date_add, sum as Fsum, \\\n",
    "                        datediff, date_trunc, row_number, when, coalesce, avg as Favg\n",
    "from pyspark.sql.types import IntegerType, DateType\n",
    "\n",
    "from pyspark.ml.classification import LogisticRegression, GBTClassifier, RandomForestClassifier\n",
    "from pyspark.ml.evaluation import MulticlassClassificationEvaluator\n",
    "from pyspark.ml.feature import StandardScaler, StringIndexer, VectorAssembler\n",
    "from pyspark.ml.tuning import CrossValidator, ParamGridBuilder\n",
    "\n",
    "import datetime"
   ]
  },
  {
   "cell_type": "code",
   "execution_count": 2,
   "metadata": {},
   "outputs": [],
   "source": [
    "# Creating a Spark Session\n",
    "spark = SparkSession \\\n",
    "    .builder \\\n",
    "    .appName(\"Sparkify\") \\\n",
    "    .getOrCreate()"
   ]
  },
  {
   "cell_type": "code",
   "execution_count": 3,
   "metadata": {},
   "outputs": [],
   "source": [
    "df = spark.read.json('mini_sparkify_event_data.json')"
   ]
  },
  {
   "cell_type": "markdown",
   "metadata": {},
   "source": [
    "## Exploratory Data Analysis & Initial Feature Engineering"
   ]
  },
  {
   "cell_type": "code",
   "execution_count": 4,
   "metadata": {},
   "outputs": [],
   "source": [
    "def shape_ps_df(df):\n",
    "    '''\n",
    "    Print shape of PySpark DataFrame\n",
    "    '''\n",
    "    print(f'DF Shape: ({df.count()},{len(df.columns)})')"
   ]
  },
  {
   "cell_type": "code",
   "execution_count": 5,
   "metadata": {},
   "outputs": [
    {
     "name": "stdout",
     "output_type": "stream",
     "text": [
      "DF Shape: (286500,18)\n"
     ]
    }
   ],
   "source": [
    "shape_ps_df(df)"
   ]
  },
  {
   "cell_type": "code",
   "execution_count": 6,
   "metadata": {
    "scrolled": true
   },
   "outputs": [
    {
     "name": "stdout",
     "output_type": "stream",
     "text": [
      "root\n",
      " |-- artist: string (nullable = true)\n",
      " |-- auth: string (nullable = true)\n",
      " |-- firstName: string (nullable = true)\n",
      " |-- gender: string (nullable = true)\n",
      " |-- itemInSession: long (nullable = true)\n",
      " |-- lastName: string (nullable = true)\n",
      " |-- length: double (nullable = true)\n",
      " |-- level: string (nullable = true)\n",
      " |-- location: string (nullable = true)\n",
      " |-- method: string (nullable = true)\n",
      " |-- page: string (nullable = true)\n",
      " |-- registration: long (nullable = true)\n",
      " |-- sessionId: long (nullable = true)\n",
      " |-- song: string (nullable = true)\n",
      " |-- status: long (nullable = true)\n",
      " |-- ts: long (nullable = true)\n",
      " |-- userAgent: string (nullable = true)\n",
      " |-- userId: string (nullable = true)\n",
      "\n"
     ]
    }
   ],
   "source": [
    "df.printSchema()"
   ]
  },
  {
   "cell_type": "code",
   "execution_count": 7,
   "metadata": {},
   "outputs": [
    {
     "data": {
      "text/plain": [
       "[Row(artist='Martha Tilston', auth='Logged In', firstName='Colin', gender='M', itemInSession=50, lastName='Freeman', length=277.89016, level='paid', location='Bakersfield, CA', method='PUT', page='NextSong', registration=1538173362000, sessionId=29, song='Rockpools', status=200, ts=1538352117000, userAgent='Mozilla/5.0 (Windows NT 6.1; WOW64; rv:31.0) Gecko/20100101 Firefox/31.0', userId='30')]"
      ]
     },
     "execution_count": 7,
     "metadata": {},
     "output_type": "execute_result"
    }
   ],
   "source": [
    "df.take(1)"
   ]
  },
  {
   "cell_type": "markdown",
   "metadata": {},
   "source": [
    "Taking a look at the contents of a few columns..."
   ]
  },
  {
   "cell_type": "code",
   "execution_count": 8,
   "metadata": {},
   "outputs": [
    {
     "name": "stdout",
     "output_type": "stream",
     "text": [
      "+-----+\n",
      "|level|\n",
      "+-----+\n",
      "| free|\n",
      "| paid|\n",
      "+-----+\n",
      "\n"
     ]
    }
   ],
   "source": [
    "df.select('level').dropDuplicates().show()"
   ]
  },
  {
   "cell_type": "code",
   "execution_count": 9,
   "metadata": {},
   "outputs": [
    {
     "name": "stdout",
     "output_type": "stream",
     "text": [
      "+------+\n",
      "|status|\n",
      "+------+\n",
      "|   307|\n",
      "|   404|\n",
      "|   200|\n",
      "+------+\n",
      "\n"
     ]
    }
   ],
   "source": [
    "df.select('status').dropDuplicates().show()"
   ]
  },
  {
   "cell_type": "code",
   "execution_count": 10,
   "metadata": {},
   "outputs": [
    {
     "name": "stdout",
     "output_type": "stream",
     "text": [
      "+--------------------+------------+\n",
      "|                page|count_visits|\n",
      "+--------------------+------------+\n",
      "|              Cancel|          52|\n",
      "|    Submit Downgrade|          63|\n",
      "|         Thumbs Down|        2546|\n",
      "|                Home|       14457|\n",
      "|           Downgrade|        2055|\n",
      "|         Roll Advert|        3933|\n",
      "|              Logout|        3226|\n",
      "|       Save Settings|         310|\n",
      "|Cancellation Conf...|          52|\n",
      "|               About|         924|\n",
      "| Submit Registration|           5|\n",
      "|            Settings|        1514|\n",
      "|               Login|        3241|\n",
      "|            Register|          18|\n",
      "|     Add to Playlist|        6526|\n",
      "|          Add Friend|        4277|\n",
      "|            NextSong|      228108|\n",
      "|           Thumbs Up|       12551|\n",
      "|                Help|        1726|\n",
      "|             Upgrade|         499|\n",
      "|               Error|         258|\n",
      "|      Submit Upgrade|         159|\n",
      "+--------------------+------------+\n",
      "\n"
     ]
    }
   ],
   "source": [
    "df.groupBy('page').agg(count(col('userId')).alias('count_visits')).show(25)"
   ]
  },
  {
   "cell_type": "markdown",
   "metadata": {},
   "source": [
    "Seems like `Cancellation Confirmation` and `Downgrade` are good indicators of churn."
   ]
  },
  {
   "cell_type": "code",
   "execution_count": 11,
   "metadata": {},
   "outputs": [
    {
     "name": "stdout",
     "output_type": "stream",
     "text": [
      "+------+\n",
      "|userId|\n",
      "+------+\n",
      "|      |\n",
      "|    10|\n",
      "|   100|\n",
      "|100001|\n",
      "|100002|\n",
      "|100003|\n",
      "|100004|\n",
      "|100005|\n",
      "|100006|\n",
      "|100007|\n",
      "+------+\n",
      "only showing top 10 rows\n",
      "\n"
     ]
    }
   ],
   "source": [
    "# Taking a look at the userIds\n",
    "df.select('userId').sort('userId').dropDuplicates().show(10)"
   ]
  },
  {
   "cell_type": "code",
   "execution_count": 12,
   "metadata": {},
   "outputs": [],
   "source": [
    "# Dropping the blank userIds\n",
    "df = df.where(col('userId')!='')"
   ]
  },
  {
   "cell_type": "markdown",
   "metadata": {},
   "source": [
    "### Exploring Location Data"
   ]
  },
  {
   "cell_type": "code",
   "execution_count": 13,
   "metadata": {},
   "outputs": [
    {
     "data": {
      "text/plain": [
       "[Row(location='Albany, OR'),\n",
       " Row(location='Albany-Schenectady-Troy, NY'),\n",
       " Row(location='Alexandria, LA'),\n",
       " Row(location='Allentown-Bethlehem-Easton, PA-NJ'),\n",
       " Row(location='Anchorage, AK'),\n",
       " Row(location='Atlanta-Sandy Springs-Roswell, GA'),\n",
       " Row(location='Atlantic City-Hammonton, NJ'),\n",
       " Row(location='Austin-Round Rock, TX'),\n",
       " Row(location='Bakersfield, CA'),\n",
       " Row(location='Baltimore-Columbia-Towson, MD')]"
      ]
     },
     "execution_count": 13,
     "metadata": {},
     "output_type": "execute_result"
    }
   ],
   "source": [
    "# Taking a look at location\n",
    "df.select('location').sort('location').dropDuplicates().take(10)"
   ]
  },
  {
   "cell_type": "code",
   "execution_count": 14,
   "metadata": {},
   "outputs": [],
   "source": [
    "# Location roughly looks like we may be able to parse the state by taking the last two character strings\n",
    "get_state = udf(lambda x: x[-2:])\n",
    "df = df.withColumn('state',get_state(col('location')))"
   ]
  },
  {
   "cell_type": "code",
   "execution_count": 15,
   "metadata": {},
   "outputs": [
    {
     "data": {
      "text/plain": [
       "39"
      ]
     },
     "execution_count": 15,
     "metadata": {},
     "output_type": "execute_result"
    }
   ],
   "source": [
    "df.select('state').dropDuplicates().count()"
   ]
  },
  {
   "cell_type": "code",
   "execution_count": 16,
   "metadata": {},
   "outputs": [
    {
     "name": "stdout",
     "output_type": "stream",
     "text": [
      "+-----+-----+\n",
      "|state|count|\n",
      "+-----+-----+\n",
      "|   CA|38271|\n",
      "|   PA|21722|\n",
      "|   TX|19296|\n",
      "|   NH|15422|\n",
      "|   FL|10729|\n",
      "|   NC| 9553|\n",
      "|   MD| 7053|\n",
      "|   WI| 7041|\n",
      "|   SC| 6979|\n",
      "|   IN| 6737|\n",
      "|   NJ| 6521|\n",
      "|   CO| 6198|\n",
      "|   MI| 5914|\n",
      "|   IL| 5631|\n",
      "|   CT| 5545|\n",
      "|   VA| 5449|\n",
      "|   WV| 5157|\n",
      "|   AL| 4573|\n",
      "|   AZ| 3956|\n",
      "|   MS| 3909|\n",
      "|   NY| 3704|\n",
      "|   GA| 3479|\n",
      "|   WA| 3183|\n",
      "|   AK| 2963|\n",
      "|   KY| 2892|\n",
      "|   OH| 2804|\n",
      "|   KS| 2134|\n",
      "|   MT| 1995|\n",
      "|   NV| 1679|\n",
      "|   OK| 1571|\n",
      "|   TN| 1393|\n",
      "|   UT|  929|\n",
      "|   LA|  888|\n",
      "|   MO|  767|\n",
      "|   MA|  710|\n",
      "|   IA|  649|\n",
      "|   AR|  464|\n",
      "|   ID|  237|\n",
      "|   OR|   11|\n",
      "+-----+-----+\n",
      "\n"
     ]
    }
   ],
   "source": [
    "# Listens by state\n",
    "df.filter(col('page')=='NextSong') \\\n",
    "    .groupBy('state') \\\n",
    "    .agg(count('userId').alias('count')) \\\n",
    "    .sort(desc('count')) \\\n",
    "    .show(40)"
   ]
  },
  {
   "cell_type": "code",
   "execution_count": 17,
   "metadata": {},
   "outputs": [
    {
     "data": {
      "text/plain": [
       "225"
      ]
     },
     "execution_count": 17,
     "metadata": {},
     "output_type": "execute_result"
    }
   ],
   "source": [
    "# Unique users\n",
    "df.select(['userId']).dropDuplicates().count()"
   ]
  },
  {
   "cell_type": "code",
   "execution_count": 18,
   "metadata": {},
   "outputs": [
    {
     "name": "stdout",
     "output_type": "stream",
     "text": [
      "+-----+-----+\n",
      "|state|count|\n",
      "+-----+-----+\n",
      "|   CA|   33|\n",
      "|   PA|   18|\n",
      "|   TX|   16|\n",
      "|   FL|   14|\n",
      "|   WI|   10|\n",
      "|   NC|    9|\n",
      "|   IL|    9|\n",
      "|   SC|    8|\n",
      "|   AZ|    7|\n",
      "|   CT|    7|\n",
      "|   NH|    7|\n",
      "|   MD|    7|\n",
      "|   AL|    6|\n",
      "|   WA|    6|\n",
      "|   IN|    6|\n",
      "|   WV|    6|\n",
      "|   NY|    5|\n",
      "|   MI|    5|\n",
      "|   GA|    4|\n",
      "|   CO|    4|\n",
      "|   VA|    3|\n",
      "|   MS|    3|\n",
      "|   OH|    3|\n",
      "|   NJ|    3|\n",
      "|   KY|    3|\n",
      "|   NV|    3|\n",
      "|   MT|    2|\n",
      "|   KS|    2|\n",
      "|   LA|    2|\n",
      "|   IA|    2|\n",
      "|   AK|    2|\n",
      "|   MA|    2|\n",
      "|   AR|    2|\n",
      "|   OR|    1|\n",
      "|   MO|    1|\n",
      "|   ID|    1|\n",
      "|   OK|    1|\n",
      "|   TN|    1|\n",
      "|   UT|    1|\n",
      "+-----+-----+\n",
      "\n"
     ]
    }
   ],
   "source": [
    "# Unique users by state\n",
    "df.filter(col('page')=='NextSong') \\\n",
    "    .dropDuplicates(['userId']) \\\n",
    "    .groupBy('state') \\\n",
    "    .agg(count('userId').alias('count')) \\\n",
    "    .sort(desc('count')) \\\n",
    "    .show(40)"
   ]
  },
  {
   "cell_type": "markdown",
   "metadata": {},
   "source": [
    "Looks like most of Sparkify's listeners live in California, and we don't have all 50 states represented."
   ]
  },
  {
   "cell_type": "markdown",
   "metadata": {},
   "source": [
    "### Exploring Date Data\n",
    "Now feature engineering more granularity from the timestamp column."
   ]
  },
  {
   "cell_type": "code",
   "execution_count": 19,
   "metadata": {},
   "outputs": [],
   "source": [
    "# Defining some functions to help pull hour, day, month, and year\n",
    "get_hour = udf(lambda x: datetime.datetime.fromtimestamp(x/1000).hour,IntegerType())\n",
    "get_day = udf(lambda x: datetime.datetime.fromtimestamp(x/1000).day,IntegerType())\n",
    "get_month = udf(lambda x: datetime.datetime.fromtimestamp(x/1000).month,IntegerType())\n",
    "get_year = udf(lambda x: datetime.datetime.fromtimestamp(x/1000).year,IntegerType())"
   ]
  },
  {
   "cell_type": "code",
   "execution_count": 20,
   "metadata": {},
   "outputs": [],
   "source": [
    "# Creating the columns\n",
    "df = df \\\n",
    "    .withColumn('hour',get_hour(col('ts'))) \\\n",
    "    .withColumn('day',get_day(col('ts'))) \\\n",
    "    .withColumn('month',get_month(col('ts'))) \\\n",
    "    .withColumn('year',get_year(col('ts')))"
   ]
  },
  {
   "cell_type": "code",
   "execution_count": 21,
   "metadata": {},
   "outputs": [
    {
     "data": {
      "text/plain": [
       "[Row(artist='Martha Tilston', auth='Logged In', firstName='Colin', gender='M', itemInSession=50, lastName='Freeman', length=277.89016, level='paid', location='Bakersfield, CA', method='PUT', page='NextSong', registration=1538173362000, sessionId=29, song='Rockpools', status=200, ts=1538352117000, userAgent='Mozilla/5.0 (Windows NT 6.1; WOW64; rv:31.0) Gecko/20100101 Firefox/31.0', userId='30', state='CA', hour=0, day=1, month=10, year=2018)]"
      ]
     },
     "execution_count": 21,
     "metadata": {},
     "output_type": "execute_result"
    }
   ],
   "source": [
    "df.take(1)"
   ]
  },
  {
   "cell_type": "code",
   "execution_count": 22,
   "metadata": {},
   "outputs": [
    {
     "data": {
      "text/plain": [
       "[Row(artist='Martha Tilston', auth='Logged In', firstName='Colin', gender='M', itemInSession=50, lastName='Freeman', length=277.89016, level='paid', location='Bakersfield, CA', method='PUT', page='NextSong', registration=1538173362000, sessionId=29, song='Rockpools', status=200, ts=1538352117000, userAgent='Mozilla/5.0 (Windows NT 6.1; WOW64; rv:31.0) Gecko/20100101 Firefox/31.0', userId='30', state='CA', hour=0, day=1, month=10, year=2018, date=datetime.date(2018, 10, 1))]"
      ]
     },
     "execution_count": 22,
     "metadata": {},
     "output_type": "execute_result"
    }
   ],
   "source": [
    "# Also creating a feature with the PySpark DateType() just in case\n",
    "get_date = udf(lambda x: datetime.datetime.fromtimestamp(x/1000),DateType())\n",
    "df = df.withColumn('date',get_date(col('ts')))\n",
    "df.take(1)"
   ]
  },
  {
   "cell_type": "code",
   "execution_count": 23,
   "metadata": {},
   "outputs": [
    {
     "name": "stdout",
     "output_type": "stream",
     "text": [
      "+----+-------------+\n",
      "|hour|count(userId)|\n",
      "+----+-------------+\n",
      "|   0|         9062|\n",
      "|   1|         8388|\n",
      "|   2|         8336|\n",
      "|   3|         8355|\n",
      "|   4|         8147|\n",
      "|   5|         8178|\n",
      "|   6|         8054|\n",
      "|   7|         8091|\n",
      "|   8|         8253|\n",
      "|   9|         8498|\n",
      "|  10|         8882|\n",
      "|  11|         8830|\n",
      "|  12|         9326|\n",
      "|  13|         9644|\n",
      "|  14|        10494|\n",
      "|  15|        11354|\n",
      "|  16|        11636|\n",
      "|  17|        11460|\n",
      "|  18|        11124|\n",
      "|  19|        10930|\n",
      "|  20|        10856|\n",
      "|  21|        10458|\n",
      "|  22|        10122|\n",
      "|  23|         9630|\n",
      "+----+-------------+\n",
      "\n"
     ]
    }
   ],
   "source": [
    "# Now aggregating by date data my hour to see if there are any trends.\n",
    "df.filter(col('page')=='NextSong').groupBy('hour').agg(count('userId')).sort('hour').show(25)"
   ]
  },
  {
   "cell_type": "code",
   "execution_count": 24,
   "metadata": {},
   "outputs": [
    {
     "name": "stdout",
     "output_type": "stream",
     "text": [
      "+---+-------------+\n",
      "|day|count(userId)|\n",
      "+---+-------------+\n",
      "|  1|         9187|\n",
      "|  2|         9646|\n",
      "|  3|         6411|\n",
      "|  4|         5729|\n",
      "|  5|         6866|\n",
      "|  6|         6796|\n",
      "|  7|         5917|\n",
      "|  8|         7390|\n",
      "|  9|         9217|\n",
      "| 10|         7791|\n",
      "| 11|         6849|\n",
      "| 12|         7314|\n",
      "| 13|         6465|\n",
      "| 14|         5876|\n",
      "| 15|         8947|\n",
      "| 16|         9056|\n",
      "| 17|         6243|\n",
      "| 18|         6292|\n",
      "| 19|         8389|\n",
      "| 20|         8995|\n",
      "| 21|         7751|\n",
      "| 22|         6577|\n",
      "| 23|         8133|\n",
      "| 24|         6750|\n",
      "| 25|         6430|\n",
      "| 26|         8298|\n",
      "| 27|         7947|\n",
      "| 28|         5567|\n",
      "| 29|         8013|\n",
      "| 30|         9048|\n",
      "| 31|         4218|\n",
      "+---+-------------+\n",
      "\n"
     ]
    }
   ],
   "source": [
    "# Aggregating again by day\n",
    "df.filter(col('page')=='NextSong').groupBy('day').agg(count('userId')).sort('day').show(32)"
   ]
  },
  {
   "cell_type": "code",
   "execution_count": 25,
   "metadata": {},
   "outputs": [
    {
     "name": "stdout",
     "output_type": "stream",
     "text": [
      "+-----+-------------+\n",
      "|month|count(userId)|\n",
      "+-----+-------------+\n",
      "|   10|       118102|\n",
      "|   11|       110002|\n",
      "|   12|            4|\n",
      "+-----+-------------+\n",
      "\n"
     ]
    }
   ],
   "source": [
    "# By Month\n",
    "df.filter(col('page')=='NextSong').groupBy('month').agg(count('userId')).sort('month').show()"
   ]
  },
  {
   "cell_type": "code",
   "execution_count": 26,
   "metadata": {},
   "outputs": [
    {
     "name": "stdout",
     "output_type": "stream",
     "text": [
      "+----+-------------+\n",
      "|year|count(userId)|\n",
      "+----+-------------+\n",
      "|2018|       228108|\n",
      "+----+-------------+\n",
      "\n"
     ]
    }
   ],
   "source": [
    "# By Year\n",
    "df.filter(col('page')=='NextSong').groupBy('year').agg(count('userId')).sort('year').show()"
   ]
  },
  {
   "cell_type": "code",
   "execution_count": 27,
   "metadata": {},
   "outputs": [
    {
     "data": {
      "text/html": [
       "<div>\n",
       "<style scoped>\n",
       "    .dataframe tbody tr th:only-of-type {\n",
       "        vertical-align: middle;\n",
       "    }\n",
       "\n",
       "    .dataframe tbody tr th {\n",
       "        vertical-align: top;\n",
       "    }\n",
       "\n",
       "    .dataframe thead th {\n",
       "        text-align: right;\n",
       "    }\n",
       "</style>\n",
       "<table border=\"1\" class=\"dataframe\">\n",
       "  <thead>\n",
       "    <tr style=\"text-align: right;\">\n",
       "      <th></th>\n",
       "      <th>hour</th>\n",
       "      <th>day</th>\n",
       "      <th>month</th>\n",
       "      <th>userId</th>\n",
       "    </tr>\n",
       "  </thead>\n",
       "  <tbody>\n",
       "    <tr>\n",
       "      <th>0</th>\n",
       "      <td>0</td>\n",
       "      <td>1</td>\n",
       "      <td>10</td>\n",
       "      <td>30</td>\n",
       "    </tr>\n",
       "    <tr>\n",
       "      <th>1</th>\n",
       "      <td>0</td>\n",
       "      <td>1</td>\n",
       "      <td>10</td>\n",
       "      <td>9</td>\n",
       "    </tr>\n",
       "    <tr>\n",
       "      <th>2</th>\n",
       "      <td>0</td>\n",
       "      <td>1</td>\n",
       "      <td>10</td>\n",
       "      <td>30</td>\n",
       "    </tr>\n",
       "    <tr>\n",
       "      <th>3</th>\n",
       "      <td>0</td>\n",
       "      <td>1</td>\n",
       "      <td>10</td>\n",
       "      <td>9</td>\n",
       "    </tr>\n",
       "    <tr>\n",
       "      <th>4</th>\n",
       "      <td>0</td>\n",
       "      <td>1</td>\n",
       "      <td>10</td>\n",
       "      <td>30</td>\n",
       "    </tr>\n",
       "  </tbody>\n",
       "</table>\n",
       "</div>"
      ],
      "text/plain": [
       "   hour  day  month userId\n",
       "0     0    1     10     30\n",
       "1     0    1     10      9\n",
       "2     0    1     10     30\n",
       "3     0    1     10      9\n",
       "4     0    1     10     30"
      ]
     },
     "execution_count": 27,
     "metadata": {},
     "output_type": "execute_result"
    }
   ],
   "source": [
    "# Transferring the above date analysis onto a Pandas DF\n",
    "df_pd = df.filter(col('page')=='NextSong').select(['hour','day','month','userId']).toPandas()\n",
    "df_pd.head()"
   ]
  },
  {
   "cell_type": "code",
   "execution_count": 28,
   "metadata": {},
   "outputs": [
    {
     "data": {
      "image/png": "[encoded data removed]",
      "text/plain": [
       "<Figure size 1152x288 with 3 Axes>"
      ]
     },
     "metadata": {
      "needs_background": "light"
     },
     "output_type": "display_data"
    }
   ],
   "source": [
    "plt.figure(figsize=(16,4))\n",
    "\n",
    "plt.subplot(131)\n",
    "sns.countplot(x='hour',data=df_pd)\n",
    "plt.title('Events by Hour')\n",
    "\n",
    "plt.subplot(132)\n",
    "sns.countplot(x='day',data=df_pd)\n",
    "plt.title('Events by Day')\n",
    "\n",
    "plt.subplot(133)\n",
    "sns.countplot(x='month',data=df_pd)\n",
    "plt.title('Events by Month')\n",
    "\n",
    "plt.tight_layout()"
   ]
  },
  {
   "cell_type": "markdown",
   "metadata": {},
   "source": [
    "Looks like we only have data from 2018 from the smaller dataset."
   ]
  },
  {
   "cell_type": "markdown",
   "metadata": {},
   "source": [
    "### Looking at User Behavior"
   ]
  },
  {
   "cell_type": "markdown",
   "metadata": {},
   "source": [
    "#### Making a days with consecutive listens feature\n",
    "It may be useful to keep a running tally of consecutive days a user listens to a song."
   ]
  },
  {
   "cell_type": "code",
   "execution_count": 29,
   "metadata": {},
   "outputs": [
    {
     "data": {
      "text/plain": [
       "[Row(artist='Martha Tilston', auth='Logged In', firstName='Colin', gender='M', itemInSession=50, lastName='Freeman', length=277.89016, level='paid', location='Bakersfield, CA', method='PUT', page='NextSong', registration=1538173362000, sessionId=29, song='Rockpools', status=200, ts=1538352117000, userAgent='Mozilla/5.0 (Windows NT 6.1; WOW64; rv:31.0) Gecko/20100101 Firefox/31.0', userId='30', state='CA', hour=0, day=1, month=10, year=2018, date=datetime.date(2018, 10, 1), listen_flag=1)]"
      ]
     },
     "execution_count": 29,
     "metadata": {},
     "output_type": "execute_result"
    }
   ],
   "source": [
    "# Creating a column containing 1 if the event was a \"NextSong\" page visit or 0 otherwise\n",
    "listen_flag = udf(lambda x: 1 if x=='NextSong' else 0, IntegerType())\n",
    "df = df.withColumn('listen_flag',listen_flag('page'))\n",
    "df.take(1)"
   ]
  },
  {
   "cell_type": "code",
   "execution_count": 30,
   "metadata": {},
   "outputs": [
    {
     "name": "stdout",
     "output_type": "stream",
     "text": [
      "+------+----------+----------------+\n",
      "|userId|      date|max(listen_flag)|\n",
      "+------+----------+----------------+\n",
      "|    10|2018-10-08|               1|\n",
      "|    10|2018-10-18|               1|\n",
      "|    10|2018-10-19|               1|\n",
      "|    10|2018-10-29|               1|\n",
      "|    10|2018-11-03|               1|\n",
      "|    10|2018-11-15|               1|\n",
      "|    10|2018-11-16|               1|\n",
      "|    10|2018-11-19|               1|\n",
      "|   100|2018-10-02|               1|\n",
      "|   100|2018-10-03|               1|\n",
      "+------+----------+----------------+\n",
      "only showing top 10 rows\n",
      "\n"
     ]
    }
   ],
   "source": [
    "# Creating a second table where I will create this feature, then join it back to the main table later\n",
    "df_listen_day = df.select(['userId','date','listen_flag']) \\\n",
    "                .groupBy(['userId','date']) \\\n",
    "                .agg(Fmax('listen_flag')).alias('listen_flag').sort(['userId','date'])\n",
    "df_listen_day.show(10)"
   ]
  },
  {
   "cell_type": "code",
   "execution_count": 31,
   "metadata": {},
   "outputs": [
    {
     "name": "stdout",
     "output_type": "stream",
     "text": [
      "+------+----------+----------------+----------+\n",
      "|userId|      date|max(listen_flag)|  prev_day|\n",
      "+------+----------+----------------+----------+\n",
      "|100010|2018-10-08|               1|      null|\n",
      "|100010|2018-10-15|               1|2018-10-08|\n",
      "|100010|2018-10-16|               1|2018-10-15|\n",
      "|100010|2018-10-20|               1|2018-10-16|\n",
      "|100010|2018-11-05|               1|2018-10-20|\n",
      "|100010|2018-11-09|               1|2018-11-05|\n",
      "|100010|2018-11-21|               1|2018-11-09|\n",
      "|200002|2018-10-01|               1|      null|\n",
      "|200002|2018-10-02|               1|2018-10-01|\n",
      "|200002|2018-10-16|               1|2018-10-02|\n",
      "|200002|2018-10-18|               1|2018-10-16|\n",
      "|200002|2018-10-22|               1|2018-10-18|\n",
      "|200002|2018-10-23|               1|2018-10-22|\n",
      "|200002|2018-11-15|               1|2018-10-23|\n",
      "|   125|2018-10-12|               1|      null|\n",
      "|   124|2018-10-01|               1|      null|\n",
      "|   124|2018-10-02|               1|2018-10-01|\n",
      "|   124|2018-10-03|               1|2018-10-02|\n",
      "|   124|2018-10-04|               1|2018-10-03|\n",
      "|   124|2018-10-05|               1|2018-10-04|\n",
      "+------+----------+----------------+----------+\n",
      "only showing top 20 rows\n",
      "\n"
     ]
    }
   ],
   "source": [
    "# Defining a window partitioned by User and ordered by date\n",
    "window = Window \\\n",
    "        .partitionBy('userId') \\\n",
    "        .orderBy(col('date'))\n",
    "\n",
    "# Using the above defined window and a lag function to create a previous day column\n",
    "df_listen_day = df_listen_day \\\n",
    "                    .withColumn('prev_day',lag(col('date')) \\\n",
    "                    .over(window))\n",
    "df_listen_day.show()"
   ]
  },
  {
   "cell_type": "code",
   "execution_count": 32,
   "metadata": {},
   "outputs": [],
   "source": [
    "# Creating a udf to compare one date to another\n",
    "def compare_date_cols(x,y):\n",
    "    '''\n",
    "    Compares x to y. Returns 1 if different\n",
    "    '''\n",
    "    if x != y:\n",
    "        return 0\n",
    "    else:\n",
    "        return 1\n",
    "date_group = udf(compare_date_cols, IntegerType())\n",
    "\n",
    "# Creating another window partitioned by userId and ordered by date\n",
    "windowval = (Window.partitionBy('userId').orderBy('date')\n",
    "             .rangeBetween(Window.unboundedPreceding, 0))\n",
    "\n",
    "df_listen_day = df_listen_day \\\n",
    "                        .withColumn( \\\n",
    "                            'date_group',\n",
    "                             date_group(col('date'), date_add(col('prev_day'),1)) \\\n",
    "                                    # The above line checks if current day and previous day +1 day are equivalent\n",
    "                                        # If They are equivalent (i.e. consecutive days), return 1\n",
    "                            ) \\\n",
    "                        .withColumn( \\\n",
    "                             'days_consec_listen',\n",
    "                             Fsum('date_group').over(windowval)) \\\n",
    "                        .select(['userId','date','days_consec_listen'])\n",
    "                                    # The above lines calculate a running total summing consecutive listens"
   ]
  },
  {
   "cell_type": "code",
   "execution_count": 33,
   "metadata": {},
   "outputs": [
    {
     "name": "stdout",
     "output_type": "stream",
     "text": [
      "DF Shape: (278154,26)\n"
     ]
    }
   ],
   "source": [
    "# Joining this intermediary table back into the original DataFrame\n",
    "df = df.join(other=df_listen_day,on=['userId','date'],how='left')\n",
    "shape_ps_df(df)"
   ]
  },
  {
   "cell_type": "code",
   "execution_count": 34,
   "metadata": {
    "scrolled": false
   },
   "outputs": [
    {
     "name": "stdout",
     "output_type": "stream",
     "text": [
      "+------+----------+------------------+\n",
      "|userId|      date|days_consec_listen|\n",
      "+------+----------+------------------+\n",
      "|    10|2018-10-08|                 0|\n",
      "|    10|2018-10-18|                 0|\n",
      "|    10|2018-10-19|                 1|\n",
      "|    10|2018-10-29|                 1|\n",
      "|    10|2018-11-03|                 1|\n",
      "|    10|2018-11-15|                 1|\n",
      "|    10|2018-11-16|                 2|\n",
      "|    10|2018-11-19|                 2|\n",
      "|   100|2018-10-02|                 0|\n",
      "|   100|2018-10-03|                 1|\n",
      "|   100|2018-10-04|                 2|\n",
      "|   100|2018-10-07|                 2|\n",
      "|   100|2018-10-09|                 2|\n",
      "|   100|2018-10-10|                 3|\n",
      "|   100|2018-10-17|                 3|\n",
      "|   100|2018-10-19|                 3|\n",
      "|   100|2018-10-23|                 3|\n",
      "|   100|2018-10-24|                 4|\n",
      "|   100|2018-10-25|                 5|\n",
      "|   100|2018-10-26|                 6|\n",
      "+------+----------+------------------+\n",
      "only showing top 20 rows\n",
      "\n"
     ]
    }
   ],
   "source": [
    "df.where(col('page')=='NextSong') \\\n",
    "    .select(['userId','date','days_consec_listen']) \\\n",
    "    .sort(['userId','date']) \\\n",
    "    .dropDuplicates(['userId','date']) \\\n",
    "    .show()"
   ]
  },
  {
   "cell_type": "markdown",
   "metadata": {},
   "source": [
    "#### Making a days since last listen feature\n",
    "It my also be useful to use this to measure inactivity."
   ]
  },
  {
   "cell_type": "code",
   "execution_count": 35,
   "metadata": {},
   "outputs": [],
   "source": [
    "# Isolating a few columns and taking the max aggregation to effectively remove duplicates\n",
    "df_listen_day = df.select(['userId','date','listen_flag']) \\\n",
    "                .groupBy(['userId','date']) \\\n",
    "                .agg(Fmax('listen_flag')).alias('listen_flag').sort(['userId','date'])"
   ]
  },
  {
   "cell_type": "code",
   "execution_count": 36,
   "metadata": {},
   "outputs": [
    {
     "name": "stdout",
     "output_type": "stream",
     "text": [
      "+------+----------+----------------+\n",
      "|userId|      date|max(listen_flag)|\n",
      "+------+----------+----------------+\n",
      "|    10|2018-10-08|               1|\n",
      "|    10|2018-10-18|               1|\n",
      "|    10|2018-10-19|               1|\n",
      "|    10|2018-10-29|               1|\n",
      "|    10|2018-11-03|               1|\n",
      "|    10|2018-11-15|               1|\n",
      "|    10|2018-11-16|               1|\n",
      "|    10|2018-11-19|               1|\n",
      "|   100|2018-10-02|               1|\n",
      "|   100|2018-10-03|               1|\n",
      "|   100|2018-10-04|               1|\n",
      "|   100|2018-10-07|               1|\n",
      "|   100|2018-10-09|               1|\n",
      "|   100|2018-10-10|               1|\n",
      "|   100|2018-10-17|               1|\n",
      "|   100|2018-10-19|               1|\n",
      "|   100|2018-10-23|               1|\n",
      "|   100|2018-10-24|               1|\n",
      "|   100|2018-10-25|               1|\n",
      "|   100|2018-10-26|               1|\n",
      "+------+----------+----------------+\n",
      "only showing top 20 rows\n",
      "\n"
     ]
    }
   ],
   "source": [
    "df_listen_day.show()"
   ]
  },
  {
   "cell_type": "code",
   "execution_count": 37,
   "metadata": {},
   "outputs": [],
   "source": [
    "# Re-stating the window\n",
    "windowval = Window.partitionBy('userId').orderBy('date')\n",
    "\n",
    "# Calculate difference (via datediff) between current date and previous date (taken with lag), and filling na's with 0\n",
    "df_last_listen = df_listen_day.withColumn('days_since_last_listen',\n",
    "                                            datediff(col('date'),lag(col('date')).over(windowval))) \\\n",
    "                            .fillna(0,subset=['days_since_last_listen']) \\\n",
    "                            .select(['userId','date','days_since_last_listen'])"
   ]
  },
  {
   "cell_type": "code",
   "execution_count": 38,
   "metadata": {},
   "outputs": [],
   "source": [
    "# Joining back results\n",
    "df = df.join(df_last_listen,on=['userId','date'],how='left')"
   ]
  },
  {
   "cell_type": "code",
   "execution_count": 39,
   "metadata": {},
   "outputs": [
    {
     "data": {
      "text/plain": [
       "[Row(userId='110', date=datetime.date(2018, 11, 5), artist=None, auth='Logged In', firstName='William', gender='M', itemInSession=0, lastName='Thompson', length=None, level='free', location='Chicago-Naperville-Elgin, IL-IN-WI', method='GET', page='Home', registration=1537665002000, sessionId=1512, song=None, status=200, ts=1541379932000, userAgent='\"Mozilla/5.0 (Macintosh; Intel Mac OS X 10_8_5) AppleWebKit/537.36 (KHTML, like Gecko) Chrome/37.0.2062.94 Safari/537.36\"', state='WI', hour=1, day=5, month=11, year=2018, listen_flag=0, days_consec_listen=0, days_since_last_listen=4)]"
      ]
     },
     "execution_count": 39,
     "metadata": {},
     "output_type": "execute_result"
    }
   ],
   "source": [
    "df.take(1)"
   ]
  },
  {
   "cell_type": "markdown",
   "metadata": {},
   "source": [
    "#### Running Listens By Month"
   ]
  },
  {
   "cell_type": "markdown",
   "metadata": {},
   "source": [
    "Listens by month can also be a useful indicator of consistent user activity."
   ]
  },
  {
   "cell_type": "code",
   "execution_count": 40,
   "metadata": {},
   "outputs": [],
   "source": [
    "# Defining Window \n",
    "windowval = Window.partitionBy('userId').orderBy(date_trunc('month',col('date')))\n",
    "\n",
    "# Creating separate intermediary DF. Using row_number() on each listen within each month to count monthly listens\n",
    "df_running_listens = df \\\n",
    "                    .where(col('listen_flag')==1) \\\n",
    "                    .withColumn('running_listens_mon',row_number().over(windowval)) \\\n",
    "                    .select(['userId','ts','running_listens_mon','date'])"
   ]
  },
  {
   "cell_type": "code",
   "execution_count": 41,
   "metadata": {},
   "outputs": [],
   "source": [
    "# Joining back into main DF\n",
    "df = df.join(df_running_listens.select(['userId','ts','running_listens_mon']),\n",
    "                                       on=['userId','ts'],how='left')"
   ]
  },
  {
   "cell_type": "code",
   "execution_count": 42,
   "metadata": {},
   "outputs": [
    {
     "name": "stdout",
     "output_type": "stream",
     "text": [
      "+------+----------+----------+-------------------+\n",
      "|userId|      date|      page|running_listens_mon|\n",
      "+------+----------+----------+-------------------+\n",
      "|    10|2018-10-08|  NextSong|                 22|\n",
      "|    10|2018-10-08|  NextSong|                 23|\n",
      "|    10|2018-10-08|  NextSong|                 24|\n",
      "|    10|2018-10-08|  NextSong|                 25|\n",
      "|    10|2018-10-08|  NextSong|                 26|\n",
      "|    10|2018-10-08|  NextSong|                 27|\n",
      "|    10|2018-10-08|  NextSong|                 28|\n",
      "|    10|2018-10-08| Thumbs Up|               null|\n",
      "|    10|2018-10-08|  NextSong|                 29|\n",
      "|    10|2018-10-08|  NextSong|                 30|\n",
      "|    10|2018-10-08|  NextSong|                 31|\n",
      "|    10|2018-10-08|Add Friend|               null|\n",
      "|    10|2018-10-08|Add Friend|               null|\n",
      "|    10|2018-10-08|  NextSong|                 32|\n",
      "|    10|2018-10-08|  NextSong|                 33|\n",
      "|    10|2018-10-08| Thumbs Up|               null|\n",
      "|    10|2018-10-08|  NextSong|                 34|\n",
      "|    10|2018-10-08|  NextSong|                 35|\n",
      "|    10|2018-10-08|  NextSong|                 36|\n",
      "|    10|2018-10-08|  NextSong|                 37|\n",
      "+------+----------+----------+-------------------+\n",
      "only showing top 20 rows\n",
      "\n"
     ]
    }
   ],
   "source": [
    "df.select(['userId','date','page','running_listens_mon']).sort(['userId','ts']).show()"
   ]
  },
  {
   "cell_type": "markdown",
   "metadata": {},
   "source": [
    "##### Dealing with Missing Values in running monthly listens"
   ]
  },
  {
   "cell_type": "markdown",
   "metadata": {},
   "source": [
    "This method creates a lot of null values. Let's see how many nulls we have..."
   ]
  },
  {
   "cell_type": "code",
   "execution_count": 43,
   "metadata": {},
   "outputs": [
    {
     "data": {
      "text/plain": [
       "49400"
      ]
     },
     "execution_count": 43,
     "metadata": {},
     "output_type": "execute_result"
    }
   ],
   "source": [
    "df.where(col('running_listens_mon').isNull()).count()"
   ]
  },
  {
   "cell_type": "code",
   "execution_count": 44,
   "metadata": {},
   "outputs": [],
   "source": [
    "# Sorting by userId and timestamp\n",
    "df = df.sort(['userId','ts'])"
   ]
  },
  {
   "cell_type": "code",
   "execution_count": 45,
   "metadata": {},
   "outputs": [],
   "source": [
    "# Creating a window partitioned by userId and ordered by timestamp\n",
    "windowval = Window.partitionBy(col('userId')).orderBy(col('ts'))\n",
    "\n",
    "# Creating a lag of the new running listens column\n",
    "running_listens_lag = lag(df['running_listens_mon']).over(windowval)"
   ]
  },
  {
   "cell_type": "code",
   "execution_count": 46,
   "metadata": {},
   "outputs": [],
   "source": [
    "# When a null value is found, fill it with the previous value. \n",
    "    # This effectively frontfills null values with valid values that immediately precede it\n",
    "df = df.withColumn('running_listens_mon_fill', \n",
    "              when(col('running_listens_mon').isNull(),running_listens_lag) \\\n",
    "                .otherwise(col('running_listens_mon')))"
   ]
  },
  {
   "cell_type": "code",
   "execution_count": 47,
   "metadata": {},
   "outputs": [
    {
     "data": {
      "text/plain": [
       "10389"
      ]
     },
     "execution_count": 47,
     "metadata": {},
     "output_type": "execute_result"
    }
   ],
   "source": [
    "# Recounting nulls\n",
    "df.where(col('running_listens_mon_fill').isNull()).count()"
   ]
  },
  {
   "cell_type": "markdown",
   "metadata": {},
   "source": [
    "Still have null values that have to be filled. Re-running the lag as a loop."
   ]
  },
  {
   "cell_type": "code",
   "execution_count": 48,
   "metadata": {},
   "outputs": [
    {
     "data": {
      "text/plain": [
       "10389"
      ]
     },
     "execution_count": 48,
     "metadata": {},
     "output_type": "execute_result"
    }
   ],
   "source": [
    "n_null = df.where(col('running_listens_mon_fill').isNull()).count()\n",
    "n_null"
   ]
  },
  {
   "cell_type": "code",
   "execution_count": 49,
   "metadata": {},
   "outputs": [
    {
     "name": "stdout",
     "output_type": "stream",
     "text": [
      "Loop 1\n",
      "Null values left: 2979\n",
      "Loop 2\n",
      "Null values left: 1023\n",
      "Loop 3\n",
      "Null values left: 447\n",
      "Loop 4\n",
      "Null values left: 253\n",
      "Loop 5\n",
      "Null values left: 183\n",
      "Loop 6\n",
      "Null values left: 156\n",
      "Breaking loop to save computation time. Filling remaining null values with 0.\n",
      "Loop 7\n",
      "Null values left: 0\n",
      "Breaking loop to save computation time. Filling remaining null values with 0.\n",
      "Done.\n",
      "Number of null values remaining: 0\n"
     ]
    }
   ],
   "source": [
    "i = 0\n",
    "while n_null > 0:\n",
    "    # Re-creating a lag column based on the filled values\n",
    "    running_listens_lag = lag(df['running_listens_mon_fill']).over(windowval)\n",
    "    \n",
    "    # Replacing 'running_listens_mon_fill' with new filled values\n",
    "    df = df.withColumn('running_listens_mon_fill', \n",
    "                  when(col('running_listens_mon_fill').isNull(),running_listens_lag) \\\n",
    "                    .otherwise(col('running_listens_mon_fill')))\n",
    "\n",
    "    n_null = df.where(col('running_listens_mon_fill').isNull()).count()\n",
    "    i += 1\n",
    "    print(f'Loop {i}\\nNull values left: {n_null}')\n",
    "    \n",
    "    if i > 5:\n",
    "        print('Breaking loop to save computation time. Filling remaining null values with 0.')\n",
    "        df = df.fillna(0,subset=['running_listens_mon_fill'])\n",
    "\n",
    "print(f'Done.\\nNumber of null values remaining: {n_null}')"
   ]
  },
  {
   "cell_type": "markdown",
   "metadata": {},
   "source": [
    "#### Flagging Based on Other Page Values"
   ]
  },
  {
   "cell_type": "code",
   "execution_count": 50,
   "metadata": {},
   "outputs": [],
   "source": [
    "# Creating udf's to flag whenever a user visits each particular page\n",
    "thU_flag = udf(lambda x: 1 if x=='Thumbs Up' else 0, IntegerType())\n",
    "thD_flag = udf(lambda x: 1 if x=='Thumbs Down' else 0, IntegerType())\n",
    "err_flag = udf(lambda x: 1 if x=='Error' else 0, IntegerType())\n",
    "addP_flag = udf(lambda x: 1 if x=='Add to Playlist' else 0, IntegerType())\n",
    "addF_flag = udf(lambda x: 1 if x=='Add Friend' else 0, IntegerType())"
   ]
  },
  {
   "cell_type": "code",
   "execution_count": 51,
   "metadata": {},
   "outputs": [],
   "source": [
    "# Creating the flag columns\n",
    "df = df.withColumn('thU_flag',thU_flag('page')) \\\n",
    "        .withColumn('thD_flag',thD_flag('page')) \\\n",
    "        .withColumn('err_flag',err_flag('page')) \\\n",
    "        .withColumn('addP_flag',addP_flag('page')) \\\n",
    "        .withColumn('addF_flag',addF_flag('page'))    "
   ]
  },
  {
   "cell_type": "markdown",
   "metadata": {},
   "source": [
    "### Defining Churn"
   ]
  },
  {
   "cell_type": "markdown",
   "metadata": {},
   "source": [
    "I will consider a page visit to `Cancellation Confirmation` or  `Downgrade` churn, which will be denoted by 1 in a `Churn` column."
   ]
  },
  {
   "cell_type": "code",
   "execution_count": 52,
   "metadata": {},
   "outputs": [],
   "source": [
    "def label_churn(x):\n",
    "    '''\n",
    "    INPUT\n",
    "    x: Page\n",
    "    \n",
    "    OUTPUT\n",
    "    Returns 1 if an instance of Churn, else returns 0\n",
    "    '''\n",
    "    if x=='Cancellation Confirmation':\n",
    "        return 1\n",
    "    elif x=='Downgrade':\n",
    "        return 1\n",
    "    else:\n",
    "        return 0\n",
    "\n",
    "# Creating udf\n",
    "udf_label_churn = udf(label_churn, IntegerType())\n",
    "# Creating column\n",
    "df = df.withColumn('Churn',udf_label_churn(col('page')))"
   ]
  },
  {
   "cell_type": "code",
   "execution_count": 53,
   "metadata": {},
   "outputs": [
    {
     "name": "stdout",
     "output_type": "stream",
     "text": [
      "+-----+------------------------+\n",
      "|Churn|avg(running_listens_mon)|\n",
      "+-----+------------------------+\n",
      "|    1|      1015.5918367346939|\n",
      "|    0|      1106.3705909359219|\n",
      "+-----+------------------------+\n",
      "\n"
     ]
    }
   ],
   "source": [
    "# Looking at average of the running listens per month by churn\n",
    "df.groupBy('Churn').agg(Favg(col('running_listens_mon'))).show()"
   ]
  },
  {
   "cell_type": "markdown",
   "metadata": {},
   "source": [
    "#### Calculating User Aggregations\n",
    "Using the features I engineered above, I'll aggregate these for each user.\n",
    "- For the metrics I calculated using Window functions (i.e. `running_listens_mon` or `days_consec_listen`), I'm taking the max\n",
    "    - These represent *most listens in one month* and *most consecutive days spent listening to music* respectively\n",
    "- For the flag metrics (i.e. `listen_flag` or `thU_flag`), I'm taking the total sum\n",
    "    - These represent *total listens* and *total thumbs ups* respectively"
   ]
  },
  {
   "cell_type": "code",
   "execution_count": 54,
   "metadata": {
    "scrolled": true
   },
   "outputs": [
    {
     "name": "stdout",
     "output_type": "stream",
     "text": [
      "+------+----------------------+---------------------------+-----------------------+-------------+-------------+-------------+---------+------------+------------+\n",
      "|userId|most_listens_one_month|most_days_since_last_listen|most_days_consec_listen|total_listens|total_thumbsU|total_thumbsD|total_err|total_add_pl|total_add_fr|\n",
      "+------+----------------------+---------------------------+-----------------------+-------------+-------------+-------------+---------+------------+------------+\n",
      "|100010|                   275|                         16|                      1|          275|           17|            5|        0|           7|           4|\n",
      "|200002|                   387|                         23|                      2|          387|           21|            6|        0|           8|           4|\n",
      "|   125|                     8|                          0|                      0|            8|            0|            0|        0|           0|           0|\n",
      "|   124|                  4079|                          6|                     19|         4079|          171|           41|        6|         118|          74|\n",
      "|    51|                  2111|                          3|                      9|         2111|          100|           21|        1|          52|          28|\n",
      "+------+----------------------+---------------------------+-----------------------+-------------+-------------+-------------+---------+------------+------------+\n",
      "only showing top 5 rows\n",
      "\n"
     ]
    }
   ],
   "source": [
    "df_listens_user = df.groupBy('userId') \\\n",
    "            .agg(Fmax(col('running_listens_mon_fill')).alias('most_listens_one_month'),\n",
    "                 Fmax(col('days_since_last_listen')).alias('most_days_since_last_listen'),\n",
    "                 Fmax(col('days_consec_listen')).alias('most_days_consec_listen'),\n",
    "                 Fsum(col('listen_flag')).alias('total_listens'),\n",
    "                 Fsum(col('thU_flag')).alias('total_thumbsU'),\n",
    "                 Fsum(col('thD_flag')).alias('total_thumbsD'),\n",
    "                 Fsum(col('err_flag')).alias('total_err'),\n",
    "                 Fsum(col('addP_flag')).alias('total_add_pl'),\n",
    "                 Fsum(col('addF_flag')).alias('total_add_fr')\n",
    "                )\n",
    "df_listens_user.show(5)"
   ]
  },
  {
   "cell_type": "markdown",
   "metadata": {},
   "source": [
    "#### Looking At User Session Data"
   ]
  },
  {
   "cell_type": "markdown",
   "metadata": {},
   "source": [
    "Another potentially useful indicator is the extent to which users behave within each session. Below I'm first taking the total sum of each flag behavior (i.e. `listen_flag`) within each session."
   ]
  },
  {
   "cell_type": "code",
   "execution_count": 55,
   "metadata": {},
   "outputs": [
    {
     "name": "stdout",
     "output_type": "stream",
     "text": [
      "+------+---------+------------+--------+--------+--------+---------+---------+\n",
      "|userId|sessionId|sess_listens|sess_thU|sess_thD|sess_err|sess_addP|sess_addF|\n",
      "+------+---------+------------+--------+--------+--------+---------+---------+\n",
      "|   101|      635|         708|      35|       8|       0|       23|        6|\n",
      "|   110|     1776|          18|       1|       0|       0|        0|        0|\n",
      "|   120|      627|         236|      13|       2|       0|        3|        0|\n",
      "|   122|      691|           6|       0|       0|       0|        0|        0|\n",
      "|   140|      798|           3|       0|       0|       0|        0|        1|\n",
      "|   153|     1794|          62|       5|       0|       1|        1|        1|\n",
      "|    29|     1030|          13|       1|       0|       0|        1|        0|\n",
      "|300011|       60|          27|       3|       0|       0|        1|        2|\n",
      "|    35|     2270|          10|       0|       0|       0|        1|        0|\n",
      "|    42|      433|          16|       0|       0|       0|        1|        0|\n",
      "|     8|     1200|          11|       0|       1|       0|        0|        0|\n",
      "|    92|      358|          57|       1|       0|       0|        2|        3|\n",
      "|    96|     1653|         133|       8|       3|       0|        3|        5|\n",
      "|    97|     2019|          70|       3|       0|       0|        1|        0|\n",
      "|100013|       13|          40|       2|       1|       0|        2|        0|\n",
      "|   123|     1901|          21|       3|       0|       0|        0|        0|\n",
      "|   137|      136|           6|       0|       0|       0|        0|        0|\n",
      "|   149|     1022|          54|       1|       0|       0|        3|        1|\n",
      "|200023|       78|           0|       0|       0|       0|        0|        0|\n",
      "|    24|      620|           5|       0|       0|       0|        0|        0|\n",
      "+------+---------+------------+--------+--------+--------+---------+---------+\n",
      "only showing top 20 rows\n",
      "\n"
     ]
    }
   ],
   "source": [
    "df_sess = df.select(['userId','sessionId','listen_flag','thU_flag','thD_flag','err_flag','addP_flag','addF_flag']) \\\n",
    "            .groupBy(['userId','sessionId']) \\\n",
    "            .agg(Fsum(col('listen_flag')).alias('sess_listens'),\n",
    "                 Fsum(col('thU_flag')).alias('sess_thU'),\n",
    "                 Fsum(col('thD_flag')).alias('sess_thD'),\n",
    "                 Fsum(col('err_flag')).alias('sess_err'),\n",
    "                 Fsum(col('addP_flag')).alias('sess_addP'),\n",
    "                 Fsum(col('addF_flag')).alias('sess_addF'))\n",
    "df_sess.show()"
   ]
  },
  {
   "cell_type": "markdown",
   "metadata": {},
   "source": [
    "Now I'm taking the average over all each user's session to get a sense of how a user tends to behave in one session."
   ]
  },
  {
   "cell_type": "code",
   "execution_count": 56,
   "metadata": {},
   "outputs": [
    {
     "name": "stdout",
     "output_type": "stream",
     "text": [
      "+------+------------------+------------------+-------------------+-------------------+------------------+-------------------+\n",
      "|userId|  avg_sess_listens|      avg_sess_thU|       avg_sess_thD|       avg_sess_err|     avg_sess_addP|      avg_sess_addF|\n",
      "+------+------------------+------------------+-------------------+-------------------+------------------+-------------------+\n",
      "|100010|39.285714285714285|2.4285714285714284| 0.7142857142857143|                0.0|               1.0| 0.5714285714285714|\n",
      "|200002|              64.5|               3.5|                1.0|                0.0|1.3333333333333333| 0.6666666666666666|\n",
      "|   125|               8.0|               0.0|                0.0|                0.0|               0.0|                0.0|\n",
      "|    51|             211.1|              10.0|                2.1|                0.1|               5.2|                2.8|\n",
      "|   124| 140.6551724137931| 5.896551724137931| 1.4137931034482758|0.20689655172413793| 4.068965517241379| 2.5517241379310347|\n",
      "|     7|21.428571428571427|               1.0|0.14285714285714285|0.14285714285714285|0.7142857142857143|0.14285714285714285|\n",
      "|    54| 76.78378378378379| 4.405405405405405| 0.7837837837837838|0.02702702702702703| 1.945945945945946| 0.8918918918918919|\n",
      "|    15|             127.6|               5.4| 0.9333333333333333|0.13333333333333333| 3.933333333333333|  2.066666666666667|\n",
      "|   155|136.66666666666666| 9.666666666666666|                0.5|                0.5|               4.0| 1.8333333333333333|\n",
      "|100014|42.833333333333336|2.8333333333333335|                0.5|                0.0|1.1666666666666667|                1.0|\n",
      "|   132|             120.5|               6.0|             1.0625|             0.1875|             2.375|             2.5625|\n",
      "|   154|              28.0|3.6666666666666665|                0.0|                0.0|0.3333333333333333|                1.0|\n",
      "|   101|             179.7|               8.6|                1.6|                0.3|               6.1|                2.9|\n",
      "|    11|           40.4375|               2.5|             0.5625|             0.0625|              1.25|              0.375|\n",
      "|300017| 57.65079365079365| 4.809523809523809| 0.4444444444444444|0.07936507936507936|1.7936507936507937|                1.0|\n",
      "|   138|             138.0| 6.333333333333333|                1.6|0.06666666666666667| 4.466666666666667| 2.7333333333333334|\n",
      "|    29| 89.05882352941177| 4.529411764705882| 0.6470588235294118|                0.0|2.6176470588235294| 1.3823529411764706|\n",
      "|    69|             125.0|               8.0|                1.0| 0.4444444444444444|3.6666666666666665| 1.3333333333333333|\n",
      "|100021|              46.0|               2.2|                1.0|                0.4|               1.4|                1.4|\n",
      "|    42| 76.02127659574468|3.5319148936170213| 0.5319148936170213|0.14893617021276595|2.2127659574468086| 1.1063829787234043|\n",
      "+------+------------------+------------------+-------------------+-------------------+------------------+-------------------+\n",
      "only showing top 20 rows\n",
      "\n"
     ]
    }
   ],
   "source": [
    "df_sess_agg = df_sess.groupBy('userId') \\\n",
    "                .agg(Favg(col('sess_listens')).alias('avg_sess_listens'),\n",
    "                    Favg(col('sess_thU')).alias('avg_sess_thU'),\n",
    "                    Favg(col('sess_thD')).alias('avg_sess_thD'),\n",
    "                    Favg(col('sess_err')).alias('avg_sess_err'),\n",
    "                    Favg(col('sess_addP')).alias('avg_sess_addP'),\n",
    "                    Favg(col('sess_addF')).alias('avg_sess_addF'))\n",
    "df_sess_agg.show()"
   ]
  },
  {
   "cell_type": "markdown",
   "metadata": {},
   "source": [
    "I'm going to take the approach of creating a user-metric matrix (users by calculated metrics) and using this as the basis for training and predicting churn rather than using the original provided transactional streaming data.\n",
    "\n",
    "I believe this is a good approach to this problem since this heavily simplifies the training and prediction process. If this were to be implemented in practice, a streaming pipeline would be required to feed into the user-metric matrix, and a model would predict churn from this matrix."
   ]
  },
  {
   "cell_type": "code",
   "execution_count": 57,
   "metadata": {},
   "outputs": [],
   "source": [
    "dfUserMatrix = df.groupBy('userId').agg(Fmax(col('gender')).alias('gender')\n",
    "                                             ,Fmax(col('churn')).alias('churn'))"
   ]
  },
  {
   "cell_type": "code",
   "execution_count": 58,
   "metadata": {},
   "outputs": [
    {
     "name": "stdout",
     "output_type": "stream",
     "text": [
      "+-----+--------+\n",
      "|churn|count(1)|\n",
      "+-----+--------+\n",
      "|    1|     171|\n",
      "|    0|      54|\n",
      "+-----+--------+\n",
      "\n"
     ]
    }
   ],
   "source": [
    "# Note the heavy class imbalance\n",
    "dfUserMatrix.groupBy('churn').agg(count('*')).show()"
   ]
  },
  {
   "cell_type": "code",
   "execution_count": 59,
   "metadata": {},
   "outputs": [],
   "source": [
    "dfUserMatrix = dfUserMatrix.join(df_listens_user,['userId']).join(df_sess_agg,['userId'])"
   ]
  },
  {
   "cell_type": "code",
   "execution_count": 60,
   "metadata": {},
   "outputs": [
    {
     "name": "stdout",
     "output_type": "stream",
     "text": [
      "DF Shape: (225,18)\n"
     ]
    }
   ],
   "source": [
    "shape_ps_df(dfUserMatrix)"
   ]
  },
  {
   "cell_type": "code",
   "execution_count": 61,
   "metadata": {},
   "outputs": [],
   "source": [
    "dfUMpd = dfUserMatrix.toPandas()"
   ]
  },
  {
   "cell_type": "code",
   "execution_count": 62,
   "metadata": {},
   "outputs": [
    {
     "data": {
      "text/html": [
       "<div>\n",
       "<style scoped>\n",
       "    .dataframe tbody tr th:only-of-type {\n",
       "        vertical-align: middle;\n",
       "    }\n",
       "\n",
       "    .dataframe tbody tr th {\n",
       "        vertical-align: top;\n",
       "    }\n",
       "\n",
       "    .dataframe thead th {\n",
       "        text-align: right;\n",
       "    }\n",
       "</style>\n",
       "<table border=\"1\" class=\"dataframe\">\n",
       "  <thead>\n",
       "    <tr style=\"text-align: right;\">\n",
       "      <th></th>\n",
       "      <th>userId</th>\n",
       "      <th>gender</th>\n",
       "      <th>churn</th>\n",
       "      <th>most_listens_one_month</th>\n",
       "      <th>most_days_since_last_listen</th>\n",
       "      <th>most_days_consec_listen</th>\n",
       "      <th>total_listens</th>\n",
       "      <th>total_thumbsU</th>\n",
       "      <th>total_thumbsD</th>\n",
       "      <th>total_err</th>\n",
       "      <th>total_add_pl</th>\n",
       "      <th>total_add_fr</th>\n",
       "      <th>avg_sess_listens</th>\n",
       "      <th>avg_sess_thU</th>\n",
       "      <th>avg_sess_thD</th>\n",
       "      <th>avg_sess_err</th>\n",
       "      <th>avg_sess_addP</th>\n",
       "      <th>avg_sess_addF</th>\n",
       "    </tr>\n",
       "  </thead>\n",
       "  <tbody>\n",
       "    <tr>\n",
       "      <th>0</th>\n",
       "      <td>100010</td>\n",
       "      <td>F</td>\n",
       "      <td>0</td>\n",
       "      <td>275</td>\n",
       "      <td>16</td>\n",
       "      <td>1</td>\n",
       "      <td>275</td>\n",
       "      <td>17</td>\n",
       "      <td>5</td>\n",
       "      <td>0</td>\n",
       "      <td>7</td>\n",
       "      <td>4</td>\n",
       "      <td>39.285714</td>\n",
       "      <td>2.428571</td>\n",
       "      <td>0.714286</td>\n",
       "      <td>0.0</td>\n",
       "      <td>1.000000</td>\n",
       "      <td>0.571429</td>\n",
       "    </tr>\n",
       "    <tr>\n",
       "      <th>1</th>\n",
       "      <td>200002</td>\n",
       "      <td>M</td>\n",
       "      <td>1</td>\n",
       "      <td>387</td>\n",
       "      <td>23</td>\n",
       "      <td>2</td>\n",
       "      <td>387</td>\n",
       "      <td>21</td>\n",
       "      <td>6</td>\n",
       "      <td>0</td>\n",
       "      <td>8</td>\n",
       "      <td>4</td>\n",
       "      <td>64.500000</td>\n",
       "      <td>3.500000</td>\n",
       "      <td>1.000000</td>\n",
       "      <td>0.0</td>\n",
       "      <td>1.333333</td>\n",
       "      <td>0.666667</td>\n",
       "    </tr>\n",
       "  </tbody>\n",
       "</table>\n",
       "</div>"
      ],
      "text/plain": [
       "   userId gender  churn  most_listens_one_month  most_days_since_last_listen  \\\n",
       "0  100010      F      0                     275                           16   \n",
       "1  200002      M      1                     387                           23   \n",
       "\n",
       "   most_days_consec_listen  total_listens  total_thumbsU  total_thumbsD  \\\n",
       "0                        1            275             17              5   \n",
       "1                        2            387             21              6   \n",
       "\n",
       "   total_err  total_add_pl  total_add_fr  avg_sess_listens  avg_sess_thU  \\\n",
       "0          0             7             4         39.285714      2.428571   \n",
       "1          0             8             4         64.500000      3.500000   \n",
       "\n",
       "   avg_sess_thD  avg_sess_err  avg_sess_addP  avg_sess_addF  \n",
       "0      0.714286           0.0       1.000000       0.571429  \n",
       "1      1.000000           0.0       1.333333       0.666667  "
      ]
     },
     "execution_count": 62,
     "metadata": {},
     "output_type": "execute_result"
    }
   ],
   "source": [
    "dfUMpd.head(2)"
   ]
  },
  {
   "cell_type": "code",
   "execution_count": 77,
   "metadata": {
    "scrolled": true
   },
   "outputs": [
    {
     "data": {
      "text/plain": [
       "{'avg_sess_listens': ['mean', 'std'],\n",
       " 'avg_sess_thU': ['mean', 'std'],\n",
       " 'avg_sess_thD': ['mean', 'std'],\n",
       " 'avg_sess_err': ['mean', 'std'],\n",
       " 'avg_sess_addP': ['mean', 'std'],\n",
       " 'avg_sess_addF': ['mean', 'std'],\n",
       " 'most_days_since_last_listen': ['mean', 'std'],\n",
       " 'most_days_consec_listen': ['mean', 'std']}"
      ]
     },
     "execution_count": 77,
     "metadata": {},
     "output_type": "execute_result"
    }
   ],
   "source": [
    "fields = ['avg_sess_listens',\n",
    "          'avg_sess_thU',\n",
    "          'avg_sess_thD',\n",
    "          'avg_sess_err',\n",
    "          'avg_sess_addP',\n",
    "          'avg_sess_addF',\n",
    "          'most_days_since_last_listen',\n",
    "          'most_days_consec_listen']\n",
    "aggs = ['mean','std']\n",
    "agg_dict = {k:agg for k,agg in zip(fields,[aggs]*len(fields))}\n",
    "agg_dict"
   ]
  },
  {
   "cell_type": "code",
   "execution_count": 78,
   "metadata": {
    "scrolled": true
   },
   "outputs": [
    {
     "data": {
      "text/html": [
       "<div>\n",
       "<style scoped>\n",
       "    .dataframe tbody tr th:only-of-type {\n",
       "        vertical-align: middle;\n",
       "    }\n",
       "\n",
       "    .dataframe tbody tr th {\n",
       "        vertical-align: top;\n",
       "    }\n",
       "\n",
       "    .dataframe thead tr th {\n",
       "        text-align: left;\n",
       "    }\n",
       "\n",
       "    .dataframe thead tr:last-of-type th {\n",
       "        text-align: right;\n",
       "    }\n",
       "</style>\n",
       "<table border=\"1\" class=\"dataframe\">\n",
       "  <thead>\n",
       "    <tr>\n",
       "      <th></th>\n",
       "      <th colspan=\"2\" halign=\"left\">avg_sess_listens</th>\n",
       "      <th colspan=\"2\" halign=\"left\">avg_sess_thU</th>\n",
       "      <th colspan=\"2\" halign=\"left\">avg_sess_thD</th>\n",
       "      <th colspan=\"2\" halign=\"left\">avg_sess_err</th>\n",
       "      <th colspan=\"2\" halign=\"left\">avg_sess_addP</th>\n",
       "      <th colspan=\"2\" halign=\"left\">avg_sess_addF</th>\n",
       "      <th colspan=\"2\" halign=\"left\">most_days_since_last_listen</th>\n",
       "      <th colspan=\"2\" halign=\"left\">most_days_consec_listen</th>\n",
       "    </tr>\n",
       "    <tr>\n",
       "      <th></th>\n",
       "      <th>mean</th>\n",
       "      <th>std</th>\n",
       "      <th>mean</th>\n",
       "      <th>std</th>\n",
       "      <th>mean</th>\n",
       "      <th>std</th>\n",
       "      <th>mean</th>\n",
       "      <th>std</th>\n",
       "      <th>mean</th>\n",
       "      <th>std</th>\n",
       "      <th>mean</th>\n",
       "      <th>std</th>\n",
       "      <th>mean</th>\n",
       "      <th>std</th>\n",
       "      <th>mean</th>\n",
       "      <th>std</th>\n",
       "    </tr>\n",
       "    <tr>\n",
       "      <th>churn</th>\n",
       "      <th></th>\n",
       "      <th></th>\n",
       "      <th></th>\n",
       "      <th></th>\n",
       "      <th></th>\n",
       "      <th></th>\n",
       "      <th></th>\n",
       "      <th></th>\n",
       "      <th></th>\n",
       "      <th></th>\n",
       "      <th></th>\n",
       "      <th></th>\n",
       "      <th></th>\n",
       "      <th></th>\n",
       "      <th></th>\n",
       "      <th></th>\n",
       "    </tr>\n",
       "  </thead>\n",
       "  <tbody>\n",
       "    <tr>\n",
       "      <th>0</th>\n",
       "      <td>36.149800</td>\n",
       "      <td>24.856800</td>\n",
       "      <td>2.097625</td>\n",
       "      <td>1.817176</td>\n",
       "      <td>0.412927</td>\n",
       "      <td>0.597540</td>\n",
       "      <td>0.056989</td>\n",
       "      <td>0.152005</td>\n",
       "      <td>0.944075</td>\n",
       "      <td>0.758488</td>\n",
       "      <td>0.892139</td>\n",
       "      <td>0.893207</td>\n",
       "      <td>16.240741</td>\n",
       "      <td>12.042276</td>\n",
       "      <td>1.277778</td>\n",
       "      <td>1.742008</td>\n",
       "    </tr>\n",
       "    <tr>\n",
       "      <th>1</th>\n",
       "      <td>79.376814</td>\n",
       "      <td>41.427842</td>\n",
       "      <td>4.252145</td>\n",
       "      <td>2.231079</td>\n",
       "      <td>0.877291</td>\n",
       "      <td>0.543217</td>\n",
       "      <td>0.091711</td>\n",
       "      <td>0.121315</td>\n",
       "      <td>2.240114</td>\n",
       "      <td>1.250857</td>\n",
       "      <td>1.525731</td>\n",
       "      <td>0.905780</td>\n",
       "      <td>9.976608</td>\n",
       "      <td>6.100100</td>\n",
       "      <td>7.982456</td>\n",
       "      <td>9.247877</td>\n",
       "    </tr>\n",
       "  </tbody>\n",
       "</table>\n",
       "</div>"
      ],
      "text/plain": [
       "      avg_sess_listens            avg_sess_thU           avg_sess_thD  \\\n",
       "                  mean        std         mean       std         mean   \n",
       "churn                                                                   \n",
       "0            36.149800  24.856800     2.097625  1.817176     0.412927   \n",
       "1            79.376814  41.427842     4.252145  2.231079     0.877291   \n",
       "\n",
       "                avg_sess_err           avg_sess_addP           avg_sess_addF  \\\n",
       "            std         mean       std          mean       std          mean   \n",
       "churn                                                                          \n",
       "0      0.597540     0.056989  0.152005      0.944075  0.758488      0.892139   \n",
       "1      0.543217     0.091711  0.121315      2.240114  1.250857      1.525731   \n",
       "\n",
       "                most_days_since_last_listen             \\\n",
       "            std                        mean        std   \n",
       "churn                                                    \n",
       "0      0.893207                   16.240741  12.042276   \n",
       "1      0.905780                    9.976608   6.100100   \n",
       "\n",
       "      most_days_consec_listen            \n",
       "                         mean       std  \n",
       "churn                                    \n",
       "0                    1.277778  1.742008  \n",
       "1                    7.982456  9.247877  "
      ]
     },
     "execution_count": 78,
     "metadata": {},
     "output_type": "execute_result"
    }
   ],
   "source": [
    "dfUM_agged = dfUMpd.groupby('churn').agg(agg_dict)\n",
    "dfUM_agged"
   ]
  },
  {
   "cell_type": "code",
   "execution_count": 79,
   "metadata": {},
   "outputs": [],
   "source": [
    "# Accessing mean values and storing them as tuples with label as first element in tuple\n",
    "means = []\n",
    "for i in dfUM_agged.index.values:\n",
    "    for field in fields:\n",
    "        means.append((i,dfUM_agged.iloc[i][field]['mean']))"
   ]
  },
  {
   "cell_type": "code",
   "execution_count": 80,
   "metadata": {},
   "outputs": [
    {
     "data": {
      "text/plain": [
       "[(0, 36.149800178640035), (0, 2.0976248847980874)]"
      ]
     },
     "execution_count": 80,
     "metadata": {},
     "output_type": "execute_result"
    }
   ],
   "source": [
    "# Example of the means list\n",
    "means[:2]"
   ]
  },
  {
   "cell_type": "code",
   "execution_count": 81,
   "metadata": {},
   "outputs": [
    {
     "data": {
      "text/html": [
       "<div>\n",
       "<style scoped>\n",
       "    .dataframe tbody tr th:only-of-type {\n",
       "        vertical-align: middle;\n",
       "    }\n",
       "\n",
       "    .dataframe tbody tr th {\n",
       "        vertical-align: top;\n",
       "    }\n",
       "\n",
       "    .dataframe thead th {\n",
       "        text-align: right;\n",
       "    }\n",
       "</style>\n",
       "<table border=\"1\" class=\"dataframe\">\n",
       "  <thead>\n",
       "    <tr style=\"text-align: right;\">\n",
       "      <th></th>\n",
       "      <th>userId</th>\n",
       "      <th>gender</th>\n",
       "      <th>churn</th>\n",
       "      <th>most_listens_one_month</th>\n",
       "      <th>most_days_since_last_listen</th>\n",
       "      <th>most_days_consec_listen</th>\n",
       "      <th>total_listens</th>\n",
       "      <th>total_thumbsU</th>\n",
       "      <th>total_thumbsD</th>\n",
       "      <th>total_err</th>\n",
       "      <th>total_add_pl</th>\n",
       "      <th>total_add_fr</th>\n",
       "      <th>avg_sess_listens</th>\n",
       "      <th>avg_sess_thU</th>\n",
       "      <th>avg_sess_thD</th>\n",
       "      <th>avg_sess_err</th>\n",
       "      <th>avg_sess_addP</th>\n",
       "      <th>avg_sess_addF</th>\n",
       "    </tr>\n",
       "  </thead>\n",
       "  <tbody>\n",
       "    <tr>\n",
       "      <th>0</th>\n",
       "      <td>100010</td>\n",
       "      <td>F</td>\n",
       "      <td>0</td>\n",
       "      <td>275</td>\n",
       "      <td>16</td>\n",
       "      <td>1</td>\n",
       "      <td>275</td>\n",
       "      <td>17</td>\n",
       "      <td>5</td>\n",
       "      <td>0</td>\n",
       "      <td>7</td>\n",
       "      <td>4</td>\n",
       "      <td>39.285714</td>\n",
       "      <td>2.428571</td>\n",
       "      <td>0.714286</td>\n",
       "      <td>0.000000</td>\n",
       "      <td>1.000000</td>\n",
       "      <td>0.571429</td>\n",
       "    </tr>\n",
       "    <tr>\n",
       "      <th>1</th>\n",
       "      <td>200002</td>\n",
       "      <td>M</td>\n",
       "      <td>1</td>\n",
       "      <td>387</td>\n",
       "      <td>23</td>\n",
       "      <td>2</td>\n",
       "      <td>387</td>\n",
       "      <td>21</td>\n",
       "      <td>6</td>\n",
       "      <td>0</td>\n",
       "      <td>8</td>\n",
       "      <td>4</td>\n",
       "      <td>64.500000</td>\n",
       "      <td>3.500000</td>\n",
       "      <td>1.000000</td>\n",
       "      <td>0.000000</td>\n",
       "      <td>1.333333</td>\n",
       "      <td>0.666667</td>\n",
       "    </tr>\n",
       "    <tr>\n",
       "      <th>2</th>\n",
       "      <td>125</td>\n",
       "      <td>M</td>\n",
       "      <td>1</td>\n",
       "      <td>8</td>\n",
       "      <td>0</td>\n",
       "      <td>0</td>\n",
       "      <td>8</td>\n",
       "      <td>0</td>\n",
       "      <td>0</td>\n",
       "      <td>0</td>\n",
       "      <td>0</td>\n",
       "      <td>0</td>\n",
       "      <td>8.000000</td>\n",
       "      <td>0.000000</td>\n",
       "      <td>0.000000</td>\n",
       "      <td>0.000000</td>\n",
       "      <td>0.000000</td>\n",
       "      <td>0.000000</td>\n",
       "    </tr>\n",
       "    <tr>\n",
       "      <th>3</th>\n",
       "      <td>124</td>\n",
       "      <td>F</td>\n",
       "      <td>1</td>\n",
       "      <td>4079</td>\n",
       "      <td>6</td>\n",
       "      <td>19</td>\n",
       "      <td>4079</td>\n",
       "      <td>171</td>\n",
       "      <td>41</td>\n",
       "      <td>6</td>\n",
       "      <td>118</td>\n",
       "      <td>74</td>\n",
       "      <td>140.655172</td>\n",
       "      <td>5.896552</td>\n",
       "      <td>1.413793</td>\n",
       "      <td>0.206897</td>\n",
       "      <td>4.068966</td>\n",
       "      <td>2.551724</td>\n",
       "    </tr>\n",
       "    <tr>\n",
       "      <th>4</th>\n",
       "      <td>51</td>\n",
       "      <td>M</td>\n",
       "      <td>1</td>\n",
       "      <td>2111</td>\n",
       "      <td>3</td>\n",
       "      <td>9</td>\n",
       "      <td>2111</td>\n",
       "      <td>100</td>\n",
       "      <td>21</td>\n",
       "      <td>1</td>\n",
       "      <td>52</td>\n",
       "      <td>28</td>\n",
       "      <td>211.100000</td>\n",
       "      <td>10.000000</td>\n",
       "      <td>2.100000</td>\n",
       "      <td>0.100000</td>\n",
       "      <td>5.200000</td>\n",
       "      <td>2.800000</td>\n",
       "    </tr>\n",
       "  </tbody>\n",
       "</table>\n",
       "</div>"
      ],
      "text/plain": [
       "   userId gender  churn  most_listens_one_month  most_days_since_last_listen  \\\n",
       "0  100010      F      0                     275                           16   \n",
       "1  200002      M      1                     387                           23   \n",
       "2     125      M      1                       8                            0   \n",
       "3     124      F      1                    4079                            6   \n",
       "4      51      M      1                    2111                            3   \n",
       "\n",
       "   most_days_consec_listen  total_listens  total_thumbsU  total_thumbsD  \\\n",
       "0                        1            275             17              5   \n",
       "1                        2            387             21              6   \n",
       "2                        0              8              0              0   \n",
       "3                       19           4079            171             41   \n",
       "4                        9           2111            100             21   \n",
       "\n",
       "   total_err  total_add_pl  total_add_fr  avg_sess_listens  avg_sess_thU  \\\n",
       "0          0             7             4         39.285714      2.428571   \n",
       "1          0             8             4         64.500000      3.500000   \n",
       "2          0             0             0          8.000000      0.000000   \n",
       "3          6           118            74        140.655172      5.896552   \n",
       "4          1            52            28        211.100000     10.000000   \n",
       "\n",
       "   avg_sess_thD  avg_sess_err  avg_sess_addP  avg_sess_addF  \n",
       "0      0.714286      0.000000       1.000000       0.571429  \n",
       "1      1.000000      0.000000       1.333333       0.666667  \n",
       "2      0.000000      0.000000       0.000000       0.000000  \n",
       "3      1.413793      0.206897       4.068966       2.551724  \n",
       "4      2.100000      0.100000       5.200000       2.800000  "
      ]
     },
     "execution_count": 81,
     "metadata": {},
     "output_type": "execute_result"
    }
   ],
   "source": [
    "dfUMpd.head()"
   ]
  },
  {
   "cell_type": "code",
   "execution_count": 82,
   "metadata": {},
   "outputs": [
    {
     "data": {
      "image/png": "[encoded data removed]",
      "text/plain": [
       "<Figure size 576x360 with 1 Axes>"
      ]
     },
     "metadata": {
      "needs_background": "light"
     },
     "output_type": "display_data"
    }
   ],
   "source": [
    "# Clearly we have many more churned users than non-churned users\n",
    "plt.figure(figsize=(8,5))\n",
    "sns.countplot(x='churn',hue='gender', data=dfUMpd)\n",
    "plt.title('Churned vs Non-Churned Users')\n",
    "plt.ylabel('Count')\n",
    "plt.xlabel('Churn')\n",
    "plt.xticks([0,1],['No','Yes'])\n",
    "plt.show()"
   ]
  },
  {
   "cell_type": "code",
   "execution_count": 83,
   "metadata": {
    "scrolled": false
   },
   "outputs": [
    {
     "data": {
      "image/png": "[encoded data removed]",
      "text/plain": [
       "<Figure size 1080x720 with 1 Axes>"
      ]
     },
     "metadata": {
      "needs_background": "light"
     },
     "output_type": "display_data"
    }
   ],
   "source": [
    "# Plotting average activity per session for each group\n",
    "y_churn = [x[1] for x in means if x[0]==1]\n",
    "y_nochurn = [x[1] for x in means if x[0]==0]\n",
    "\n",
    "x = fields\n",
    "N = len(fields)\n",
    "ind = np.arange(N)\n",
    "width = 0.35\n",
    "\n",
    "plt.figure(figsize=(15,10))\n",
    "plt.bar(ind, y_churn, width, label='Churn')\n",
    "plt.bar(ind+width, y_nochurn, width, label='No Churn')\n",
    "\n",
    "plt.ylabel('Average')\n",
    "plt.title('Comparing Churned users to Non-Churned Users')\n",
    "plt.xticks(ind+width/2, fields, rotation=20)\n",
    "plt.legend(loc='best')\n",
    "plt.show()"
   ]
  },
  {
   "cell_type": "markdown",
   "metadata": {},
   "source": [
    "## Prepping Data For Model"
   ]
  },
  {
   "cell_type": "code",
   "execution_count": 84,
   "metadata": {},
   "outputs": [],
   "source": [
    "gender_indexer = StringIndexer(inputCol='gender',outputCol='gender_indexed')\n",
    "fitted_gender_indexer = gender_indexer.fit(dfUserMatrix)\n",
    "dfModel = fitted_gender_indexer.transform(dfUserMatrix)"
   ]
  },
  {
   "cell_type": "code",
   "execution_count": 85,
   "metadata": {},
   "outputs": [
    {
     "name": "stdout",
     "output_type": "stream",
     "text": [
      "root\n",
      " |-- userId: string (nullable = true)\n",
      " |-- gender: string (nullable = true)\n",
      " |-- churn: integer (nullable = true)\n",
      " |-- most_listens_one_month: integer (nullable = true)\n",
      " |-- most_days_since_last_listen: integer (nullable = true)\n",
      " |-- most_days_consec_listen: long (nullable = true)\n",
      " |-- total_listens: long (nullable = true)\n",
      " |-- total_thumbsU: long (nullable = true)\n",
      " |-- total_thumbsD: long (nullable = true)\n",
      " |-- total_err: long (nullable = true)\n",
      " |-- total_add_pl: long (nullable = true)\n",
      " |-- total_add_fr: long (nullable = true)\n",
      " |-- avg_sess_listens: double (nullable = true)\n",
      " |-- avg_sess_thU: double (nullable = true)\n",
      " |-- avg_sess_thD: double (nullable = true)\n",
      " |-- avg_sess_err: double (nullable = true)\n",
      " |-- avg_sess_addP: double (nullable = true)\n",
      " |-- avg_sess_addF: double (nullable = true)\n",
      " |-- gender_indexed: double (nullable = false)\n",
      "\n"
     ]
    }
   ],
   "source": [
    "dfModel.printSchema()"
   ]
  },
  {
   "cell_type": "code",
   "execution_count": 86,
   "metadata": {},
   "outputs": [],
   "source": [
    "# Defining the that we want to vectorize in a list\n",
    "features = [col for col in dfModel.columns if col not in ('userId','gender','churn')]"
   ]
  },
  {
   "cell_type": "code",
   "execution_count": 87,
   "metadata": {},
   "outputs": [],
   "source": [
    "# Vectorizing the features\n",
    "assembler = VectorAssembler(inputCols=features,\n",
    "                            outputCol='features')\n",
    "dfModelVec = assembler.transform(dfModel)"
   ]
  },
  {
   "cell_type": "code",
   "execution_count": 88,
   "metadata": {},
   "outputs": [],
   "source": [
    "dfModelVec = dfModelVec.select(col('features'),col('Churn').alias('label'))"
   ]
  },
  {
   "cell_type": "markdown",
   "metadata": {},
   "source": [
    "## Modeling"
   ]
  },
  {
   "cell_type": "code",
   "execution_count": 89,
   "metadata": {},
   "outputs": [],
   "source": [
    "# Scaling to mean 0 and unit std dev\n",
    "scaler = StandardScaler(inputCol='features', outputCol='features_scaled', withMean=True, withStd=True)\n",
    "scalerModel = scaler.fit(dfModelVec)"
   ]
  },
  {
   "cell_type": "code",
   "execution_count": 90,
   "metadata": {},
   "outputs": [],
   "source": [
    "dfModelVecScaled = scalerModel.transform(dfModelVec)"
   ]
  },
  {
   "cell_type": "code",
   "execution_count": 91,
   "metadata": {},
   "outputs": [],
   "source": [
    "dfMain = dfModelVecScaled.select(col('features_scaled').alias('features'),col('label'))"
   ]
  },
  {
   "cell_type": "code",
   "execution_count": 92,
   "metadata": {},
   "outputs": [],
   "source": [
    "# Train/Test split\n",
    "df_train, df_test = dfMain.randomSplit([0.8,0.2], seed=42)"
   ]
  },
  {
   "cell_type": "code",
   "execution_count": 136,
   "metadata": {},
   "outputs": [],
   "source": [
    "def train_eval(model,df_train=df_train, df_test=df_test):\n",
    "    '''\n",
    "    Used to train and evaluate a SparkML model based on accuracy and f-1 score\n",
    "    \n",
    "    INPUT\n",
    "    model: ML Model to train\n",
    "    df_train: DataFrame with data\n",
    "    \n",
    "    OUTPUT\n",
    "    None\n",
    "    '''\n",
    "    print(f'Training {model}...')\n",
    "    # Instantiating Evaluators\n",
    "    acc_evaluator = MulticlassClassificationEvaluator(metricName='accuracy')\n",
    "    f1_evaluator = MulticlassClassificationEvaluator(metricName='f1')\n",
    "    \n",
    "    # Training and predicting with model\n",
    "    modelFitted = model.fit(df_train)\n",
    "    results = modelFitted.transform(df_test)\n",
    "    \n",
    "    # Calculating metrics\n",
    "    acc = acc_evaluator.evaluate(results)\n",
    "    f1 = f1_evaluator.evaluate(results)\n",
    "    \n",
    "    print(f'{str(model):<35s}Accuracy: {acc:<4.2%} F-1 Score: {f1:<4.3f}') "
   ]
  },
  {
   "cell_type": "code",
   "execution_count": 93,
   "metadata": {},
   "outputs": [],
   "source": [
    "# Arbitrarily picked these three algorithms to try\n",
    "lr = LogisticRegression(maxIter=30)\n",
    "gbt = GBTClassifier()\n",
    "rf = RandomForestClassifier()"
   ]
  },
  {
   "cell_type": "markdown",
   "metadata": {},
   "source": [
    "Below are the results from an initial evaluation pass through each of the three selected algorithms. We'll proceed with tuning `GBTClassifier` since it resulted in the highest Accuracy and F-1 Score."
   ]
  },
  {
   "cell_type": "code",
   "execution_count": 138,
   "metadata": {
    "scrolled": false
   },
   "outputs": [
    {
     "name": "stdout",
     "output_type": "stream",
     "text": [
      "Training LogisticRegression_98795b660a57...\n",
      "LogisticRegression_98795b660a57    Accuracy: 76.47% F-1 Score: 0.775\n",
      "Training GBTClassifier_7d4c69401dd0...\n",
      "GBTClassifier_7d4c69401dd0         Accuracy: 79.41% F-1 Score: 0.799\n",
      "Training RandomForestClassifier_1e2e472cacf8...\n",
      "RandomForestClassifier_1e2e472cacf8Accuracy: 76.47% F-1 Score: 0.781\n"
     ]
    }
   ],
   "source": [
    "for model in [lr, gbt, rf]:\n",
    "    train_eval(model)"
   ]
  },
  {
   "cell_type": "markdown",
   "metadata": {},
   "source": [
    "---\n",
    "\n",
    "#### Tuning The Model\n",
    "\n",
    "Because of the very few data points that we have, it would be beneficial to train our final model using K-Fold cross validation, which is automatically done with the `CrossValidator` along with a Grid Search using `ParamGridBuilder`."
   ]
  },
  {
   "cell_type": "code",
   "execution_count": 94,
   "metadata": {},
   "outputs": [],
   "source": [
    "# Going for a very small grid because of compute time\n",
    "paramGrid = ParamGridBuilder() \\\n",
    "    .addGrid(gbt.maxDepth,[3,5]) \\\n",
    "    .addGrid(gbt.maxBins,[16,32]) \\\n",
    "    .build()"
   ]
  },
  {
   "cell_type": "code",
   "execution_count": 95,
   "metadata": {},
   "outputs": [],
   "source": [
    "crossVal = CrossValidator(estimator=gbt,\n",
    "                          estimatorParamMaps=paramGrid,\n",
    "                          evaluator=MulticlassClassificationEvaluator(),\n",
    "                          numFolds=3,\n",
    "                          seed=42,\n",
    "                          parallelism=2)"
   ]
  },
  {
   "cell_type": "code",
   "execution_count": 96,
   "metadata": {},
   "outputs": [],
   "source": [
    "cvModel = crossVal.fit(df_train)"
   ]
  },
  {
   "cell_type": "code",
   "execution_count": 97,
   "metadata": {},
   "outputs": [],
   "source": [
    "# Now evaluating on the test set\n",
    "predictions = cvModel.transform(df_test)"
   ]
  },
  {
   "cell_type": "code",
   "execution_count": 98,
   "metadata": {},
   "outputs": [],
   "source": [
    "# Re-evaluating metrics using the resulting model\n",
    "acc_eval = MulticlassClassificationEvaluator(metricName='accuracy')\n",
    "f1_eval = MulticlassClassificationEvaluator(metricName='f1')"
   ]
  },
  {
   "cell_type": "code",
   "execution_count": 99,
   "metadata": {},
   "outputs": [
    {
     "name": "stdout",
     "output_type": "stream",
     "text": [
      "Accuracy: 82.35% F-1 Score: 0.831\n"
     ]
    }
   ],
   "source": [
    "# Calculating metrics\n",
    "acc = acc_eval.evaluate(predictions)\n",
    "f1 = f1_eval.evaluate(predictions)\n",
    "print(f'Accuracy: {acc:<4.2%} F-1 Score: {f1:<4.3f}') "
   ]
  },
  {
   "cell_type": "code",
   "execution_count": 168,
   "metadata": {},
   "outputs": [
    {
     "name": "stdout",
     "output_type": "stream",
     "text": [
      "GBTClassifier_7d4c69401dd0__maxDepth: 3\n",
      "GBTClassifier_7d4c69401dd0__maxBins: 16\n"
     ]
    }
   ],
   "source": [
    "# Hyperparameters of the best performing model\n",
    "for key, value in cvModel.getEstimatorParamMaps()[np.argmax(cvModel.avgMetrics)].items():\n",
    "    print(f'{key}: {value}')"
   ]
  },
  {
   "cell_type": "code",
   "execution_count": 105,
   "metadata": {},
   "outputs": [
    {
     "data": {
      "text/plain": [
       "16"
      ]
     },
     "execution_count": 105,
     "metadata": {},
     "output_type": "execute_result"
    }
   ],
   "source": [
    "len(features)"
   ]
  },
  {
   "cell_type": "code",
   "execution_count": 104,
   "metadata": {},
   "outputs": [
    {
     "data": {
      "text/plain": [
       "['most_listens_one_month',\n",
       " 'most_days_since_last_listen',\n",
       " 'most_days_consec_listen',\n",
       " 'total_listens',\n",
       " 'total_thumbsU',\n",
       " 'total_thumbsD',\n",
       " 'total_err',\n",
       " 'total_add_pl',\n",
       " 'total_add_fr',\n",
       " 'avg_sess_listens',\n",
       " 'avg_sess_thU',\n",
       " 'avg_sess_thD',\n",
       " 'avg_sess_err',\n",
       " 'avg_sess_addP',\n",
       " 'avg_sess_addF',\n",
       " 'gender_indexed']"
      ]
     },
     "execution_count": 104,
     "metadata": {},
     "output_type": "execute_result"
    }
   ],
   "source": [
    "features"
   ]
  },
  {
   "cell_type": "code",
   "execution_count": 108,
   "metadata": {},
   "outputs": [
    {
     "data": {
      "text/plain": [
       "array([0.06775969, 0.1141684 , 0.0975169 , 0.13504283, 0.04348794,\n",
       "       0.03196265, 0.10931565, 0.14084993, 0.04594624, 0.06329077,\n",
       "       0.08473535, 0.04041317, 0.02551048])"
      ]
     },
     "execution_count": 108,
     "metadata": {},
     "output_type": "execute_result"
    }
   ],
   "source": [
    "cvModel.bestModel.featureImportances.values"
   ]
  },
  {
   "cell_type": "code",
   "execution_count": 134,
   "metadata": {},
   "outputs": [
    {
     "data": {
      "image/png": "[encoded data removed]",
      "text/plain": [
       "<Figure size 864x360 with 1 Axes>"
      ]
     },
     "metadata": {
      "needs_background": "light"
     },
     "output_type": "display_data"
    }
   ],
   "source": [
    "# Grabbing the best estimator's feature_importances_\n",
    "importances = cvModel.bestModel.featureImportances.toArray()\n",
    "\n",
    "# Grabbing the indices that would sort the feature importances according to their importance rating\n",
    "indices = np.argsort(importances)\n",
    "\n",
    "# Creating a features array\n",
    "features = np.array(features)\n",
    "\n",
    "# Plotting\n",
    "plt.figure(figsize=(12,5))\n",
    "plt.title(\"Feature Importances\")\n",
    "plt.barh(range(len(indices)), importances[indices],\n",
    "       color=\"b\", align=\"center\")\n",
    "plt.yticks(range(len(indices)), features[indices])\n",
    "plt.show()"
   ]
  },
  {
   "cell_type": "markdown",
   "metadata": {},
   "source": [
    "It looks like these were the most important features when predicting churn:\n",
    "- Average song plays per session\n",
    "- Total thumbs ups\n",
    "- Most consecutive days not playing songs\n",
    "\n",
    "Additionally, it looks like a few error-based metrics and total listens were completely useless for this dataset. This makes sense since there were no errors in this smaller dataset. I've chosen to keep them as part of the workflow in case the larger dataset has errors that could be useful to model."
   ]
  },
  {
   "cell_type": "markdown",
   "metadata": {},
   "source": [
    "## Conclusion"
   ]
  },
  {
   "cell_type": "markdown",
   "metadata": {},
   "source": [
    "A lot more features can be engineered from user activity, such as thumbs-ups per day/week/month, thumbs-ups to thumbs-downs ratio, etc. \n",
    "\n",
    ">***Feature engineering can improve results better than simply optimizing one algorithm.***\n",
    "\n",
    "Thus, further work can be done extracting more features from our transactional user data to improve our predictions!\n",
    "\n",
    "Once a model is created, perhaps it can be deployed in production and run every x-amount of days or hours. Once we have a prediction on a user that is likely to churn, we have an opportunity to intervene!\n",
    "\n",
    "To evaluate how well this hypothetically deployed model does, we can run some proof-of-concept analysis and not intervene on its predictions for a given testing period. If the users it predicts will churn end up churning at a higher rate than the average user tends to churn, this can indicate that our model is working correctly!"
   ]
  }
 ],
 "metadata": {
  "kernelspec": {
   "display_name": "Python 3",
   "language": "python",
   "name": "python3"
  },
  "language_info": {
   "codemirror_mode": {
    "name": "ipython",
    "version": 3
   },
   "file_extension": ".py",
   "mimetype": "text/x-python",
   "name": "python",
   "nbconvert_exporter": "python",
   "pygments_lexer": "ipython3",
   "version": "3.6.6"
  }
 },
 "nbformat": 4,
 "nbformat_minor": 2
}
