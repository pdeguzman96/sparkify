{
 "cells": [
  {
   "cell_type": "markdown",
   "metadata": {},
   "source": [
    "# Sparkify Project Workspace\n",
    "This workspace contains a tiny subset (128MB) of the full dataset available (12GB). Feel free to use this workspace to build your project, or to explore a smaller subset with Spark before deploying your cluster on the cloud. Instructions for setting up your Spark cluster is included in the last lesson of the Extracurricular Spark Course content.\n",
    "\n",
    "You can follow the steps below to guide your data analysis and model building portion of this project."
   ]
  },
  {
   "cell_type": "code",
   "execution_count": 95,
   "metadata": {},
   "outputs": [],
   "source": [
    "import pandas as pd\n",
    "import matplotlib.pyplot as plt\n",
    "%matplotlib inline\n",
    "import seaborn as sns\n",
    "\n",
    "from pyspark.sql import SparkSession, Window\n",
    "from pyspark.sql.functions import count, col, udf, desc, max as Fmax, lag, struct, date_add, sum as Fsum\n",
    "from pyspark.sql.functions import datediff, date_trunc, row_number, when, coalesce, avg as Favg\n",
    "from pyspark.sql.types import IntegerType, DateType\n",
    "\n",
    "from pyspark.ml import Pipeline\n",
    "from pyspark.ml.classification import LogisticRegression, GBTClassifier, RandomForestClassifier\n",
    "from pyspark.ml.evaluation import BinaryClassificationEvaluator\n",
    "from pyspark.ml.feature import StandardScaler, StringIndexer, VectorAssembler\n",
    "from pyspark.ml.tuning import CrossValidator, ParamGridBuilder\n",
    "\n",
    "import datetime"
   ]
  },
  {
   "cell_type": "code",
   "execution_count": 2,
   "metadata": {},
   "outputs": [],
   "source": [
    "# Creating a Spark Session\n",
    "spark = SparkSession \\\n",
    "    .builder \\\n",
    "    .appName(\"Sparkify\") \\\n",
    "    .getOrCreate()"
   ]
  },
  {
   "cell_type": "markdown",
   "metadata": {},
   "source": [
    "# Load and Clean Dataset\n",
    "In this workspace, the mini-dataset file is `mini_sparkify_event_data.json`. Load and clean the dataset, checking for invalid or missing data - for example, records without userids or sessionids. "
   ]
  },
  {
   "cell_type": "code",
   "execution_count": 3,
   "metadata": {},
   "outputs": [],
   "source": [
    "## 10/18 Note to self: delete local json file and read.json line and uncomment below two lines for AWS\n",
    "# event_data = \"s3n://udacity-dsnd/sparkify/mini_sparkify_event_data.json\"\n",
    "# df = spark.read.json(event_data)\n",
    "df = spark.read.json('mini_sparkify_event_data.json')"
   ]
  },
  {
   "cell_type": "markdown",
   "metadata": {},
   "source": [
    "# Exploratory Data Analysis\n",
    "When you're working with the full dataset, perform EDA by loading a small subset of the data and doing basic manipulations within Spark. In this workspace, you are already provided a small subset of data you can explore."
   ]
  },
  {
   "cell_type": "code",
   "execution_count": 4,
   "metadata": {},
   "outputs": [],
   "source": [
    "def shape_ps_df(df):\n",
    "    '''\n",
    "    Print shape of PySpark DataFrame\n",
    "    '''\n",
    "    print(f'DF Shape: ({df.count()},{len(df.columns)})')"
   ]
  },
  {
   "cell_type": "code",
   "execution_count": 5,
   "metadata": {},
   "outputs": [
    {
     "name": "stdout",
     "output_type": "stream",
     "text": [
      "DF Shape: (286500,18)\n"
     ]
    }
   ],
   "source": [
    "shape_ps_df(df)"
   ]
  },
  {
   "cell_type": "code",
   "execution_count": 6,
   "metadata": {
    "scrolled": true
   },
   "outputs": [
    {
     "name": "stdout",
     "output_type": "stream",
     "text": [
      "root\n",
      " |-- artist: string (nullable = true)\n",
      " |-- auth: string (nullable = true)\n",
      " |-- firstName: string (nullable = true)\n",
      " |-- gender: string (nullable = true)\n",
      " |-- itemInSession: long (nullable = true)\n",
      " |-- lastName: string (nullable = true)\n",
      " |-- length: double (nullable = true)\n",
      " |-- level: string (nullable = true)\n",
      " |-- location: string (nullable = true)\n",
      " |-- method: string (nullable = true)\n",
      " |-- page: string (nullable = true)\n",
      " |-- registration: long (nullable = true)\n",
      " |-- sessionId: long (nullable = true)\n",
      " |-- song: string (nullable = true)\n",
      " |-- status: long (nullable = true)\n",
      " |-- ts: long (nullable = true)\n",
      " |-- userAgent: string (nullable = true)\n",
      " |-- userId: string (nullable = true)\n",
      "\n"
     ]
    }
   ],
   "source": [
    "df.printSchema()"
   ]
  },
  {
   "cell_type": "code",
   "execution_count": 7,
   "metadata": {},
   "outputs": [
    {
     "data": {
      "text/plain": [
       "[Row(artist='Martha Tilston', auth='Logged In', firstName='Colin', gender='M', itemInSession=50, lastName='Freeman', length=277.89016, level='paid', location='Bakersfield, CA', method='PUT', page='NextSong', registration=1538173362000, sessionId=29, song='Rockpools', status=200, ts=1538352117000, userAgent='Mozilla/5.0 (Windows NT 6.1; WOW64; rv:31.0) Gecko/20100101 Firefox/31.0', userId='30')]"
      ]
     },
     "execution_count": 7,
     "metadata": {},
     "output_type": "execute_result"
    }
   ],
   "source": [
    "df.take(1)"
   ]
  },
  {
   "cell_type": "markdown",
   "metadata": {},
   "source": [
    "Taking a look at the contents of a few columns..."
   ]
  },
  {
   "cell_type": "code",
   "execution_count": 8,
   "metadata": {},
   "outputs": [
    {
     "name": "stdout",
     "output_type": "stream",
     "text": [
      "+-----+\n",
      "|level|\n",
      "+-----+\n",
      "| free|\n",
      "| paid|\n",
      "+-----+\n",
      "\n"
     ]
    }
   ],
   "source": [
    "df.select('level').dropDuplicates().show()"
   ]
  },
  {
   "cell_type": "code",
   "execution_count": 9,
   "metadata": {},
   "outputs": [
    {
     "name": "stdout",
     "output_type": "stream",
     "text": [
      "+------+\n",
      "|status|\n",
      "+------+\n",
      "|   307|\n",
      "|   404|\n",
      "|   200|\n",
      "+------+\n",
      "\n"
     ]
    }
   ],
   "source": [
    "df.select('status').dropDuplicates().show()"
   ]
  },
  {
   "cell_type": "code",
   "execution_count": 10,
   "metadata": {},
   "outputs": [
    {
     "name": "stdout",
     "output_type": "stream",
     "text": [
      "+--------------------+------------+\n",
      "|                page|count_visits|\n",
      "+--------------------+------------+\n",
      "|              Cancel|          52|\n",
      "|    Submit Downgrade|          63|\n",
      "|         Thumbs Down|        2546|\n",
      "|                Home|       14457|\n",
      "|           Downgrade|        2055|\n",
      "|         Roll Advert|        3933|\n",
      "|              Logout|        3226|\n",
      "|       Save Settings|         310|\n",
      "|Cancellation Conf...|          52|\n",
      "|               About|         924|\n",
      "| Submit Registration|           5|\n",
      "|            Settings|        1514|\n",
      "|               Login|        3241|\n",
      "|            Register|          18|\n",
      "|     Add to Playlist|        6526|\n",
      "|          Add Friend|        4277|\n",
      "|            NextSong|      228108|\n",
      "|           Thumbs Up|       12551|\n",
      "|                Help|        1726|\n",
      "|             Upgrade|         499|\n",
      "|               Error|         258|\n",
      "|      Submit Upgrade|         159|\n",
      "+--------------------+------------+\n",
      "\n"
     ]
    }
   ],
   "source": [
    "df.groupBy('page').agg(count(col('userId')).alias('count_visits')).show(25)"
   ]
  },
  {
   "cell_type": "markdown",
   "metadata": {},
   "source": [
    "Seems like `Cancellation Confirmation` and `Downgrade` are good indicators of churn."
   ]
  },
  {
   "cell_type": "code",
   "execution_count": 11,
   "metadata": {},
   "outputs": [
    {
     "name": "stdout",
     "output_type": "stream",
     "text": [
      "+------+\n",
      "|userId|\n",
      "+------+\n",
      "|      |\n",
      "|    10|\n",
      "|   100|\n",
      "|100001|\n",
      "|100002|\n",
      "|100003|\n",
      "|100004|\n",
      "|100005|\n",
      "|100006|\n",
      "|100007|\n",
      "+------+\n",
      "only showing top 10 rows\n",
      "\n"
     ]
    }
   ],
   "source": [
    "# Taking a look at the userIds\n",
    "df.select('userId').sort('userId').dropDuplicates().show(10)"
   ]
  },
  {
   "cell_type": "code",
   "execution_count": 12,
   "metadata": {},
   "outputs": [],
   "source": [
    "# Dropping the blank userIds\n",
    "df = df.where(col('userId')!='')"
   ]
  },
  {
   "cell_type": "markdown",
   "metadata": {},
   "source": [
    "### Exploring Location Data"
   ]
  },
  {
   "cell_type": "code",
   "execution_count": 13,
   "metadata": {},
   "outputs": [
    {
     "data": {
      "text/plain": [
       "[Row(location='Albany, OR'),\n",
       " Row(location='Albany-Schenectady-Troy, NY'),\n",
       " Row(location='Alexandria, LA'),\n",
       " Row(location='Allentown-Bethlehem-Easton, PA-NJ'),\n",
       " Row(location='Anchorage, AK'),\n",
       " Row(location='Atlanta-Sandy Springs-Roswell, GA'),\n",
       " Row(location='Atlantic City-Hammonton, NJ'),\n",
       " Row(location='Austin-Round Rock, TX'),\n",
       " Row(location='Bakersfield, CA'),\n",
       " Row(location='Baltimore-Columbia-Towson, MD')]"
      ]
     },
     "execution_count": 13,
     "metadata": {},
     "output_type": "execute_result"
    }
   ],
   "source": [
    "# Taking a look at location\n",
    "df.select('location').sort('location').dropDuplicates().take(10)"
   ]
  },
  {
   "cell_type": "code",
   "execution_count": 14,
   "metadata": {},
   "outputs": [],
   "source": [
    "# Location roughly looks like we may be able to parse the state by taking the last two character strings\n",
    "get_state = udf(lambda x: x[-2:])\n",
    "df = df.withColumn('state',get_state(col('location')))"
   ]
  },
  {
   "cell_type": "code",
   "execution_count": 15,
   "metadata": {},
   "outputs": [
    {
     "data": {
      "text/plain": [
       "39"
      ]
     },
     "execution_count": 15,
     "metadata": {},
     "output_type": "execute_result"
    }
   ],
   "source": [
    "df.select('state').dropDuplicates().count()"
   ]
  },
  {
   "cell_type": "code",
   "execution_count": 16,
   "metadata": {},
   "outputs": [
    {
     "name": "stdout",
     "output_type": "stream",
     "text": [
      "+-----+-----+\n",
      "|state|count|\n",
      "+-----+-----+\n",
      "|   CA|38271|\n",
      "|   PA|21722|\n",
      "|   TX|19296|\n",
      "|   NH|15422|\n",
      "|   FL|10729|\n",
      "|   NC| 9553|\n",
      "|   MD| 7053|\n",
      "|   WI| 7041|\n",
      "|   SC| 6979|\n",
      "|   IN| 6737|\n",
      "|   NJ| 6521|\n",
      "|   CO| 6198|\n",
      "|   MI| 5914|\n",
      "|   IL| 5631|\n",
      "|   CT| 5545|\n",
      "|   VA| 5449|\n",
      "|   WV| 5157|\n",
      "|   AL| 4573|\n",
      "|   AZ| 3956|\n",
      "|   MS| 3909|\n",
      "|   NY| 3704|\n",
      "|   GA| 3479|\n",
      "|   WA| 3183|\n",
      "|   AK| 2963|\n",
      "|   KY| 2892|\n",
      "|   OH| 2804|\n",
      "|   KS| 2134|\n",
      "|   MT| 1995|\n",
      "|   NV| 1679|\n",
      "|   OK| 1571|\n",
      "|   TN| 1393|\n",
      "|   UT|  929|\n",
      "|   LA|  888|\n",
      "|   MO|  767|\n",
      "|   MA|  710|\n",
      "|   IA|  649|\n",
      "|   AR|  464|\n",
      "|   ID|  237|\n",
      "|   OR|   11|\n",
      "+-----+-----+\n",
      "\n"
     ]
    }
   ],
   "source": [
    "# Listens by state\n",
    "df.filter(col('page')=='NextSong') \\\n",
    "    .groupBy('state') \\\n",
    "    .agg(count('userId').alias('count')) \\\n",
    "    .sort(desc('count')) \\\n",
    "    .show(40)"
   ]
  },
  {
   "cell_type": "code",
   "execution_count": 17,
   "metadata": {},
   "outputs": [
    {
     "data": {
      "text/plain": [
       "225"
      ]
     },
     "execution_count": 17,
     "metadata": {},
     "output_type": "execute_result"
    }
   ],
   "source": [
    "# Unique users\n",
    "df.select(['userId']).dropDuplicates().count()"
   ]
  },
  {
   "cell_type": "code",
   "execution_count": 18,
   "metadata": {},
   "outputs": [
    {
     "name": "stdout",
     "output_type": "stream",
     "text": [
      "+-----+-----+\n",
      "|state|count|\n",
      "+-----+-----+\n",
      "|   CA|   33|\n",
      "|   PA|   18|\n",
      "|   TX|   16|\n",
      "|   FL|   14|\n",
      "|   WI|   10|\n",
      "|   NC|    9|\n",
      "|   IL|    9|\n",
      "|   SC|    8|\n",
      "|   AZ|    7|\n",
      "|   CT|    7|\n",
      "|   NH|    7|\n",
      "|   MD|    7|\n",
      "|   WA|    6|\n",
      "|   IN|    6|\n",
      "|   AL|    6|\n",
      "|   WV|    6|\n",
      "|   MI|    5|\n",
      "|   NY|    5|\n",
      "|   CO|    4|\n",
      "|   GA|    4|\n",
      "|   MS|    3|\n",
      "|   OH|    3|\n",
      "|   KY|    3|\n",
      "|   NJ|    3|\n",
      "|   NV|    3|\n",
      "|   VA|    3|\n",
      "|   MT|    2|\n",
      "|   KS|    2|\n",
      "|   IA|    2|\n",
      "|   LA|    2|\n",
      "|   AK|    2|\n",
      "|   MA|    2|\n",
      "|   AR|    2|\n",
      "|   OR|    1|\n",
      "|   MO|    1|\n",
      "|   ID|    1|\n",
      "|   OK|    1|\n",
      "|   TN|    1|\n",
      "|   UT|    1|\n",
      "+-----+-----+\n",
      "\n"
     ]
    }
   ],
   "source": [
    "# Unique users by state\n",
    "df.filter(col('page')=='NextSong') \\\n",
    "    .dropDuplicates(['userId']) \\\n",
    "    .groupBy('state') \\\n",
    "    .agg(count('userId').alias('count')) \\\n",
    "    .sort(desc('count')) \\\n",
    "    .show(40)"
   ]
  },
  {
   "cell_type": "markdown",
   "metadata": {},
   "source": [
    "Looks like most of Sparkify's listeners live in California, and we don't have all 50 states represented."
   ]
  },
  {
   "cell_type": "markdown",
   "metadata": {},
   "source": [
    "### Exploring Date Data\n",
    "Now feature engineering more granularity from the timestamp column."
   ]
  },
  {
   "cell_type": "code",
   "execution_count": 19,
   "metadata": {},
   "outputs": [],
   "source": [
    "get_hour = udf(lambda x: datetime.datetime.fromtimestamp(x/1000).hour,IntegerType())\n",
    "get_day = udf(lambda x: datetime.datetime.fromtimestamp(x/1000).day,IntegerType())\n",
    "get_month = udf(lambda x: datetime.datetime.fromtimestamp(x/1000).month,IntegerType())\n",
    "get_year = udf(lambda x: datetime.datetime.fromtimestamp(x/1000).year,IntegerType())"
   ]
  },
  {
   "cell_type": "code",
   "execution_count": 20,
   "metadata": {},
   "outputs": [],
   "source": [
    "df = df \\\n",
    "    .withColumn('hour',get_hour(col('ts'))) \\\n",
    "    .withColumn('day',get_day(col('ts'))) \\\n",
    "    .withColumn('month',get_month(col('ts'))) \\\n",
    "    .withColumn('year',get_year(col('ts')))"
   ]
  },
  {
   "cell_type": "code",
   "execution_count": 21,
   "metadata": {},
   "outputs": [
    {
     "data": {
      "text/plain": [
       "[Row(artist='Martha Tilston', auth='Logged In', firstName='Colin', gender='M', itemInSession=50, lastName='Freeman', length=277.89016, level='paid', location='Bakersfield, CA', method='PUT', page='NextSong', registration=1538173362000, sessionId=29, song='Rockpools', status=200, ts=1538352117000, userAgent='Mozilla/5.0 (Windows NT 6.1; WOW64; rv:31.0) Gecko/20100101 Firefox/31.0', userId='30', state='CA', hour=0, day=1, month=10, year=2018)]"
      ]
     },
     "execution_count": 21,
     "metadata": {},
     "output_type": "execute_result"
    }
   ],
   "source": [
    "df.take(1)"
   ]
  },
  {
   "cell_type": "code",
   "execution_count": 22,
   "metadata": {},
   "outputs": [
    {
     "data": {
      "text/plain": [
       "[Row(artist='Martha Tilston', auth='Logged In', firstName='Colin', gender='M', itemInSession=50, lastName='Freeman', length=277.89016, level='paid', location='Bakersfield, CA', method='PUT', page='NextSong', registration=1538173362000, sessionId=29, song='Rockpools', status=200, ts=1538352117000, userAgent='Mozilla/5.0 (Windows NT 6.1; WOW64; rv:31.0) Gecko/20100101 Firefox/31.0', userId='30', state='CA', hour=0, day=1, month=10, year=2018, date=datetime.date(2018, 10, 1))]"
      ]
     },
     "execution_count": 22,
     "metadata": {},
     "output_type": "execute_result"
    }
   ],
   "source": [
    "get_date = udf(lambda x: datetime.datetime.fromtimestamp(x/1000),DateType())\n",
    "df = df.withColumn('date',get_date(col('ts')))\n",
    "df.take(1)"
   ]
  },
  {
   "cell_type": "markdown",
   "metadata": {},
   "source": [
    "Now aggregating by date data to see if there are any trends."
   ]
  },
  {
   "cell_type": "code",
   "execution_count": 23,
   "metadata": {},
   "outputs": [
    {
     "name": "stdout",
     "output_type": "stream",
     "text": [
      "+----+-------------+\n",
      "|hour|count(userId)|\n",
      "+----+-------------+\n",
      "|   0|         9062|\n",
      "|   1|         8388|\n",
      "|   2|         8336|\n",
      "|   3|         8355|\n",
      "|   4|         8147|\n",
      "|   5|         8178|\n",
      "|   6|         8054|\n",
      "|   7|         8091|\n",
      "|   8|         8253|\n",
      "|   9|         8498|\n",
      "|  10|         8882|\n",
      "|  11|         8830|\n",
      "|  12|         9326|\n",
      "|  13|         9644|\n",
      "|  14|        10494|\n",
      "|  15|        11354|\n",
      "|  16|        11636|\n",
      "|  17|        11460|\n",
      "|  18|        11124|\n",
      "|  19|        10930|\n",
      "|  20|        10856|\n",
      "|  21|        10458|\n",
      "|  22|        10122|\n",
      "|  23|         9630|\n",
      "+----+-------------+\n",
      "\n"
     ]
    }
   ],
   "source": [
    "df.filter(col('page')=='NextSong').groupBy('hour').agg(count('userId')).sort('hour').show(25)"
   ]
  },
  {
   "cell_type": "code",
   "execution_count": 24,
   "metadata": {},
   "outputs": [
    {
     "name": "stdout",
     "output_type": "stream",
     "text": [
      "+---+-------------+\n",
      "|day|count(userId)|\n",
      "+---+-------------+\n",
      "|  1|         9187|\n",
      "|  2|         9646|\n",
      "|  3|         6411|\n",
      "|  4|         5729|\n",
      "|  5|         6866|\n",
      "|  6|         6796|\n",
      "|  7|         5917|\n",
      "|  8|         7390|\n",
      "|  9|         9217|\n",
      "| 10|         7791|\n",
      "| 11|         6849|\n",
      "| 12|         7314|\n",
      "| 13|         6465|\n",
      "| 14|         5876|\n",
      "| 15|         8947|\n",
      "| 16|         9056|\n",
      "| 17|         6243|\n",
      "| 18|         6292|\n",
      "| 19|         8389|\n",
      "| 20|         8995|\n",
      "| 21|         7751|\n",
      "| 22|         6577|\n",
      "| 23|         8133|\n",
      "| 24|         6750|\n",
      "| 25|         6430|\n",
      "| 26|         8298|\n",
      "| 27|         7947|\n",
      "| 28|         5567|\n",
      "| 29|         8013|\n",
      "| 30|         9048|\n",
      "| 31|         4218|\n",
      "+---+-------------+\n",
      "\n"
     ]
    }
   ],
   "source": [
    "df.filter(col('page')=='NextSong').groupBy('day').agg(count('userId')).sort('day').show(32)"
   ]
  },
  {
   "cell_type": "code",
   "execution_count": 25,
   "metadata": {},
   "outputs": [
    {
     "name": "stdout",
     "output_type": "stream",
     "text": [
      "+-----+-------------+\n",
      "|month|count(userId)|\n",
      "+-----+-------------+\n",
      "|   10|       118102|\n",
      "|   11|       110002|\n",
      "|   12|            4|\n",
      "+-----+-------------+\n",
      "\n"
     ]
    }
   ],
   "source": [
    "df.filter(col('page')=='NextSong').groupBy('month').agg(count('userId')).sort('month').show()"
   ]
  },
  {
   "cell_type": "code",
   "execution_count": 26,
   "metadata": {},
   "outputs": [
    {
     "name": "stdout",
     "output_type": "stream",
     "text": [
      "+----+-------------+\n",
      "|year|count(userId)|\n",
      "+----+-------------+\n",
      "|2018|       228108|\n",
      "+----+-------------+\n",
      "\n"
     ]
    }
   ],
   "source": [
    "df.filter(col('page')=='NextSong').groupBy('year').agg(count('userId')).sort('year').show()"
   ]
  },
  {
   "cell_type": "code",
   "execution_count": 27,
   "metadata": {},
   "outputs": [
    {
     "data": {
      "text/html": [
       "<div>\n",
       "<style scoped>\n",
       "    .dataframe tbody tr th:only-of-type {\n",
       "        vertical-align: middle;\n",
       "    }\n",
       "\n",
       "    .dataframe tbody tr th {\n",
       "        vertical-align: top;\n",
       "    }\n",
       "\n",
       "    .dataframe thead th {\n",
       "        text-align: right;\n",
       "    }\n",
       "</style>\n",
       "<table border=\"1\" class=\"dataframe\">\n",
       "  <thead>\n",
       "    <tr style=\"text-align: right;\">\n",
       "      <th></th>\n",
       "      <th>hour</th>\n",
       "      <th>day</th>\n",
       "      <th>month</th>\n",
       "      <th>userId</th>\n",
       "    </tr>\n",
       "  </thead>\n",
       "  <tbody>\n",
       "    <tr>\n",
       "      <th>0</th>\n",
       "      <td>0</td>\n",
       "      <td>1</td>\n",
       "      <td>10</td>\n",
       "      <td>30</td>\n",
       "    </tr>\n",
       "    <tr>\n",
       "      <th>1</th>\n",
       "      <td>0</td>\n",
       "      <td>1</td>\n",
       "      <td>10</td>\n",
       "      <td>9</td>\n",
       "    </tr>\n",
       "    <tr>\n",
       "      <th>2</th>\n",
       "      <td>0</td>\n",
       "      <td>1</td>\n",
       "      <td>10</td>\n",
       "      <td>30</td>\n",
       "    </tr>\n",
       "    <tr>\n",
       "      <th>3</th>\n",
       "      <td>0</td>\n",
       "      <td>1</td>\n",
       "      <td>10</td>\n",
       "      <td>9</td>\n",
       "    </tr>\n",
       "    <tr>\n",
       "      <th>4</th>\n",
       "      <td>0</td>\n",
       "      <td>1</td>\n",
       "      <td>10</td>\n",
       "      <td>30</td>\n",
       "    </tr>\n",
       "  </tbody>\n",
       "</table>\n",
       "</div>"
      ],
      "text/plain": [
       "   hour  day  month userId\n",
       "0     0    1     10     30\n",
       "1     0    1     10      9\n",
       "2     0    1     10     30\n",
       "3     0    1     10      9\n",
       "4     0    1     10     30"
      ]
     },
     "execution_count": 27,
     "metadata": {},
     "output_type": "execute_result"
    }
   ],
   "source": [
    "df_pd = df.filter(col('page')=='NextSong').select(['hour','day','month','userId']).toPandas()\n",
    "df_pd.head()"
   ]
  },
  {
   "cell_type": "code",
   "execution_count": 28,
   "metadata": {},
   "outputs": [
    {
     "data": {
      "image/png": "[encoded data removed]",
      "text/plain": [
       "<Figure size 1152x288 with 3 Axes>"
      ]
     },
     "metadata": {
      "needs_background": "light"
     },
     "output_type": "display_data"
    }
   ],
   "source": [
    "plt.figure(figsize=(16,4))\n",
    "\n",
    "plt.subplot(131)\n",
    "sns.countplot(x='hour',data=df_pd)\n",
    "plt.title('Listens by Hour')\n",
    "\n",
    "plt.subplot(132)\n",
    "sns.countplot(x='day',data=df_pd)\n",
    "plt.title('Listens by Day')\n",
    "\n",
    "plt.subplot(133)\n",
    "sns.countplot(x='month',data=df_pd)\n",
    "plt.title('Listens by Month')\n",
    "\n",
    "plt.tight_layout()"
   ]
  },
  {
   "cell_type": "markdown",
   "metadata": {},
   "source": [
    "Looks like we only have data from 2018 from the smaller dataset.\n",
    "\n",
    "*Note to self: Revisit comments for the 12GB dataset*"
   ]
  },
  {
   "cell_type": "markdown",
   "metadata": {},
   "source": [
    "### Looking at User Behavior"
   ]
  },
  {
   "cell_type": "markdown",
   "metadata": {},
   "source": [
    "Now taking a look at average listens per user using the `NextSong` page. Practicing using Spark SQL."
   ]
  },
  {
   "cell_type": "code",
   "execution_count": 29,
   "metadata": {},
   "outputs": [],
   "source": [
    "df.createOrReplaceTempView('user_data')"
   ]
  },
  {
   "cell_type": "code",
   "execution_count": 30,
   "metadata": {
    "scrolled": false
   },
   "outputs": [
    {
     "name": "stdout",
     "output_type": "stream",
     "text": [
      "+------+-----+\n",
      "|userId|count|\n",
      "+------+-----+\n",
      "|    39| 8002|\n",
      "|    92| 5945|\n",
      "|   140| 5664|\n",
      "|300011| 4619|\n",
      "|   124| 4079|\n",
      "|300021| 3816|\n",
      "|300017| 3632|\n",
      "|    85| 3616|\n",
      "|    42| 3573|\n",
      "|     6| 3159|\n",
      "|    29| 3028|\n",
      "|200023| 2955|\n",
      "|    54| 2841|\n",
      "|   100| 2682|\n",
      "|     9| 2676|\n",
      "|    91| 2580|\n",
      "|   126| 2577|\n",
      "|300015| 2524|\n",
      "|    98| 2401|\n",
      "|    74| 2400|\n",
      "+------+-----+\n",
      "only showing top 20 rows\n",
      "\n"
     ]
    }
   ],
   "source": [
    "query = '''\n",
    "SELECT userId, COUNT(userId) AS count\n",
    "FROM user_data\n",
    "WHERE page = 'NextSong'\n",
    "GROUP BY userID\n",
    "ORDER BY count DESC\n",
    "'''\n",
    "spark.sql(query).show()"
   ]
  },
  {
   "cell_type": "markdown",
   "metadata": {},
   "source": [
    "#### Making a days with consecutive listens feature"
   ]
  },
  {
   "cell_type": "code",
   "execution_count": 31,
   "metadata": {},
   "outputs": [
    {
     "data": {
      "text/plain": [
       "[Row(artist='Martha Tilston', auth='Logged In', firstName='Colin', gender='M', itemInSession=50, lastName='Freeman', length=277.89016, level='paid', location='Bakersfield, CA', method='PUT', page='NextSong', registration=1538173362000, sessionId=29, song='Rockpools', status=200, ts=1538352117000, userAgent='Mozilla/5.0 (Windows NT 6.1; WOW64; rv:31.0) Gecko/20100101 Firefox/31.0', userId='30', state='CA', hour=0, day=1, month=10, year=2018, date=datetime.date(2018, 10, 1), listen_flag=1)]"
      ]
     },
     "execution_count": 31,
     "metadata": {},
     "output_type": "execute_result"
    }
   ],
   "source": [
    "listen_flag = udf(lambda x: 1 if x=='NextSong' else 0, IntegerType())\n",
    "df = df.withColumn('listen_flag',listen_flag('page'))\n",
    "df.take(1)"
   ]
  },
  {
   "cell_type": "markdown",
   "metadata": {},
   "source": [
    "Let's create a second table that will contain dates and cumulative listen counts that I will later join"
   ]
  },
  {
   "cell_type": "code",
   "execution_count": 32,
   "metadata": {},
   "outputs": [
    {
     "name": "stdout",
     "output_type": "stream",
     "text": [
      "+------+----------+----------------+\n",
      "|userId|      date|max(listen_flag)|\n",
      "+------+----------+----------------+\n",
      "|    10|2018-10-08|               1|\n",
      "|    10|2018-10-18|               1|\n",
      "|    10|2018-10-19|               1|\n",
      "|    10|2018-10-29|               1|\n",
      "|    10|2018-11-03|               1|\n",
      "|    10|2018-11-15|               1|\n",
      "|    10|2018-11-16|               1|\n",
      "|    10|2018-11-19|               1|\n",
      "|   100|2018-10-02|               1|\n",
      "|   100|2018-10-03|               1|\n",
      "+------+----------+----------------+\n",
      "only showing top 10 rows\n",
      "\n"
     ]
    }
   ],
   "source": [
    "df_listen_day = df.select(['userId','date','listen_flag']) \\\n",
    "                .groupBy(['userId','date']) \\\n",
    "                .agg(Fmax('listen_flag')).alias('listen_flag').sort(['userId','date'])\n",
    "df_listen_day.show(10)"
   ]
  },
  {
   "cell_type": "code",
   "execution_count": 33,
   "metadata": {},
   "outputs": [
    {
     "name": "stdout",
     "output_type": "stream",
     "text": [
      "+------+----------+----------------+----------+\n",
      "|userId|      date|max(listen_flag)|  prev_day|\n",
      "+------+----------+----------------+----------+\n",
      "|100010|2018-10-08|               1|      null|\n",
      "|100010|2018-10-15|               1|2018-10-08|\n",
      "|100010|2018-10-16|               1|2018-10-15|\n",
      "|100010|2018-10-20|               1|2018-10-16|\n",
      "|100010|2018-11-05|               1|2018-10-20|\n",
      "|100010|2018-11-09|               1|2018-11-05|\n",
      "|100010|2018-11-21|               1|2018-11-09|\n",
      "|200002|2018-10-01|               1|      null|\n",
      "|200002|2018-10-02|               1|2018-10-01|\n",
      "|200002|2018-10-16|               1|2018-10-02|\n",
      "|200002|2018-10-18|               1|2018-10-16|\n",
      "|200002|2018-10-22|               1|2018-10-18|\n",
      "|200002|2018-10-23|               1|2018-10-22|\n",
      "|200002|2018-11-15|               1|2018-10-23|\n",
      "|   125|2018-10-12|               1|      null|\n",
      "|   124|2018-10-01|               1|      null|\n",
      "|   124|2018-10-02|               1|2018-10-01|\n",
      "|   124|2018-10-03|               1|2018-10-02|\n",
      "|   124|2018-10-04|               1|2018-10-03|\n",
      "|   124|2018-10-05|               1|2018-10-04|\n",
      "+------+----------+----------------+----------+\n",
      "only showing top 20 rows\n",
      "\n"
     ]
    }
   ],
   "source": [
    "window = Window \\\n",
    "        .partitionBy('userId') \\\n",
    "        .orderBy(col('date'))\n",
    "\n",
    "df_listen_day = df_listen_day \\\n",
    "                    .withColumn('prev_day',lag(col('date')) \\\n",
    "                    .over(window))\n",
    "df_listen_day.show()"
   ]
  },
  {
   "cell_type": "code",
   "execution_count": 34,
   "metadata": {},
   "outputs": [],
   "source": [
    "def compare_date_cols(x,y):\n",
    "    if x != y:\n",
    "        return 0\n",
    "    else:\n",
    "        return 1\n",
    "    \n",
    "date_group = udf(compare_date_cols, IntegerType())\n",
    "\n",
    "windowval = (Window.partitionBy('userId').orderBy('date')\n",
    "             .rangeBetween(Window.unboundedPreceding, 0))\n",
    "\n",
    "df_listen_day = df_listen_day \\\n",
    "                        .withColumn( \\\n",
    "                            'date_group',\n",
    "                             date_group(col('date'), date_add(col('prev_day'),1)) \\\n",
    "                            ) \\\n",
    "                        .withColumn( \\\n",
    "                             'days_consec_listen',\n",
    "                             Fsum('date_group').over(windowval)) \\\n",
    "                        .select(['userId','date','days_consec_listen'])"
   ]
  },
  {
   "cell_type": "code",
   "execution_count": 35,
   "metadata": {},
   "outputs": [
    {
     "name": "stdout",
     "output_type": "stream",
     "text": [
      "+------+----------+------------------+\n",
      "|userId|      date|days_consec_listen|\n",
      "+------+----------+------------------+\n",
      "|100010|2018-10-08|                 0|\n",
      "|100010|2018-10-15|                 0|\n",
      "|100010|2018-10-16|                 1|\n",
      "|100010|2018-10-20|                 1|\n",
      "|100010|2018-11-05|                 1|\n",
      "|100010|2018-11-09|                 1|\n",
      "|100010|2018-11-21|                 1|\n",
      "|200002|2018-10-01|                 0|\n",
      "|200002|2018-10-02|                 1|\n",
      "|200002|2018-10-16|                 1|\n",
      "|200002|2018-10-18|                 1|\n",
      "|200002|2018-10-22|                 1|\n",
      "|200002|2018-10-23|                 2|\n",
      "|200002|2018-11-15|                 2|\n",
      "|   125|2018-10-12|                 0|\n",
      "|   124|2018-10-01|                 0|\n",
      "|   124|2018-10-02|                 1|\n",
      "|   124|2018-10-03|                 2|\n",
      "|   124|2018-10-04|                 3|\n",
      "|   124|2018-10-05|                 4|\n",
      "+------+----------+------------------+\n",
      "only showing top 20 rows\n",
      "\n"
     ]
    }
   ],
   "source": [
    "df_listen_day.show()"
   ]
  },
  {
   "cell_type": "code",
   "execution_count": 36,
   "metadata": {},
   "outputs": [
    {
     "name": "stdout",
     "output_type": "stream",
     "text": [
      "DF Shape: (278154,26)\n"
     ]
    }
   ],
   "source": [
    "df = df.join(other=df_listen_day,on=['userId','date'],how='left')\n",
    "shape_ps_df(df)"
   ]
  },
  {
   "cell_type": "code",
   "execution_count": 37,
   "metadata": {},
   "outputs": [
    {
     "name": "stdout",
     "output_type": "stream",
     "text": [
      "+------+----------+------------------+\n",
      "|userId|      date|days_consec_listen|\n",
      "+------+----------+------------------+\n",
      "|    10|2018-10-08|                 0|\n",
      "|    10|2018-10-18|                 0|\n",
      "|    10|2018-10-19|                 1|\n",
      "|    10|2018-10-29|                 1|\n",
      "|    10|2018-11-03|                 1|\n",
      "|    10|2018-11-15|                 1|\n",
      "|    10|2018-11-16|                 2|\n",
      "|    10|2018-11-19|                 2|\n",
      "|   100|2018-10-02|                 0|\n",
      "|   100|2018-10-03|                 1|\n",
      "|   100|2018-10-04|                 2|\n",
      "|   100|2018-10-07|                 2|\n",
      "|   100|2018-10-09|                 2|\n",
      "|   100|2018-10-10|                 3|\n",
      "|   100|2018-10-17|                 3|\n",
      "|   100|2018-10-19|                 3|\n",
      "|   100|2018-10-23|                 3|\n",
      "|   100|2018-10-24|                 4|\n",
      "|   100|2018-10-25|                 5|\n",
      "|   100|2018-10-26|                 6|\n",
      "+------+----------+------------------+\n",
      "only showing top 20 rows\n",
      "\n"
     ]
    }
   ],
   "source": [
    "df.where(col('page')=='NextSong') \\\n",
    "    .select(['userId','date','days_consec_listen']) \\\n",
    "    .sort(['userId','date']) \\\n",
    "    .dropDuplicates(['userId','date']) \\\n",
    "    .show()"
   ]
  },
  {
   "cell_type": "markdown",
   "metadata": {},
   "source": [
    "Making a days since last listen feature"
   ]
  },
  {
   "cell_type": "code",
   "execution_count": 38,
   "metadata": {},
   "outputs": [],
   "source": [
    "df_listen_day = df.select(['userId','date','listen_flag']) \\\n",
    "                .groupBy(['userId','date']) \\\n",
    "                .agg(Fmax('listen_flag')).alias('listen_flag').sort(['userId','date'])"
   ]
  },
  {
   "cell_type": "code",
   "execution_count": 39,
   "metadata": {},
   "outputs": [
    {
     "name": "stdout",
     "output_type": "stream",
     "text": [
      "+------+----------+----------------+\n",
      "|userId|      date|max(listen_flag)|\n",
      "+------+----------+----------------+\n",
      "|    10|2018-10-08|               1|\n",
      "|    10|2018-10-18|               1|\n",
      "|    10|2018-10-19|               1|\n",
      "|    10|2018-10-29|               1|\n",
      "|    10|2018-11-03|               1|\n",
      "|    10|2018-11-15|               1|\n",
      "|    10|2018-11-16|               1|\n",
      "|    10|2018-11-19|               1|\n",
      "|   100|2018-10-02|               1|\n",
      "|   100|2018-10-03|               1|\n",
      "|   100|2018-10-04|               1|\n",
      "|   100|2018-10-07|               1|\n",
      "|   100|2018-10-09|               1|\n",
      "|   100|2018-10-10|               1|\n",
      "|   100|2018-10-17|               1|\n",
      "|   100|2018-10-19|               1|\n",
      "|   100|2018-10-23|               1|\n",
      "|   100|2018-10-24|               1|\n",
      "|   100|2018-10-25|               1|\n",
      "|   100|2018-10-26|               1|\n",
      "+------+----------+----------------+\n",
      "only showing top 20 rows\n",
      "\n"
     ]
    }
   ],
   "source": [
    "df_listen_day.show()"
   ]
  },
  {
   "cell_type": "code",
   "execution_count": 40,
   "metadata": {},
   "outputs": [],
   "source": [
    "windowval = Window.partitionBy('userId').orderBy('date')\n",
    "\n",
    "df_last_listen = df_listen_day.withColumn('days_since_last_listen',\n",
    "                        datediff(col('date'),lag(col('date')).over(windowval))) \\\n",
    "                        .fillna(0,subset=['days_since_last_listen']) \\\n",
    "                        .select(['userId','date','days_since_last_listen'])"
   ]
  },
  {
   "cell_type": "code",
   "execution_count": 41,
   "metadata": {},
   "outputs": [
    {
     "name": "stdout",
     "output_type": "stream",
     "text": [
      "+------+----------+----------------------+\n",
      "|userId|      date|days_since_last_listen|\n",
      "+------+----------+----------------------+\n",
      "|100010|2018-10-08|                     0|\n",
      "|100010|2018-10-15|                     7|\n",
      "|100010|2018-10-16|                     1|\n",
      "|100010|2018-10-20|                     4|\n",
      "|100010|2018-11-05|                    16|\n",
      "|100010|2018-11-09|                     4|\n",
      "|100010|2018-11-21|                    12|\n",
      "|200002|2018-10-01|                     0|\n",
      "|200002|2018-10-02|                     1|\n",
      "|200002|2018-10-16|                    14|\n",
      "|200002|2018-10-18|                     2|\n",
      "|200002|2018-10-22|                     4|\n",
      "|200002|2018-10-23|                     1|\n",
      "|200002|2018-11-15|                    23|\n",
      "|   125|2018-10-12|                     0|\n",
      "|   124|2018-10-01|                     0|\n",
      "|   124|2018-10-02|                     1|\n",
      "|   124|2018-10-03|                     1|\n",
      "|   124|2018-10-04|                     1|\n",
      "|   124|2018-10-05|                     1|\n",
      "+------+----------+----------------------+\n",
      "only showing top 20 rows\n",
      "\n"
     ]
    }
   ],
   "source": [
    "df_last_listen.show()"
   ]
  },
  {
   "cell_type": "code",
   "execution_count": 42,
   "metadata": {},
   "outputs": [],
   "source": [
    "df = df.join(df_last_listen,on=['userId','date'],how='left')"
   ]
  },
  {
   "cell_type": "code",
   "execution_count": 43,
   "metadata": {},
   "outputs": [
    {
     "data": {
      "text/plain": [
       "[Row(userId='110', date=datetime.date(2018, 11, 5), artist=None, auth='Logged In', firstName='William', gender='M', itemInSession=0, lastName='Thompson', length=None, level='free', location='Chicago-Naperville-Elgin, IL-IN-WI', method='GET', page='Home', registration=1537665002000, sessionId=1512, song=None, status=200, ts=1541379932000, userAgent='\"Mozilla/5.0 (Macintosh; Intel Mac OS X 10_8_5) AppleWebKit/537.36 (KHTML, like Gecko) Chrome/37.0.2062.94 Safari/537.36\"', state='WI', hour=1, day=5, month=11, year=2018, listen_flag=0, days_consec_listen=0, days_since_last_listen=4)]"
      ]
     },
     "execution_count": 43,
     "metadata": {},
     "output_type": "execute_result"
    }
   ],
   "source": [
    "df.take(1)"
   ]
  },
  {
   "cell_type": "markdown",
   "metadata": {},
   "source": [
    "#### Running Listens By Month"
   ]
  },
  {
   "cell_type": "code",
   "execution_count": 44,
   "metadata": {},
   "outputs": [],
   "source": [
    "windowval = Window.partitionBy('userId').orderBy(date_trunc('month',col('date')))\n",
    "\n",
    "df_running_listens = df \\\n",
    "                    .where(col('listen_flag')==1) \\\n",
    "                    .withColumn('running_listens_mon',row_number().over(windowval)) \\\n",
    "                    .select(['userId','ts','running_listens_mon','date'])"
   ]
  },
  {
   "cell_type": "code",
   "execution_count": 45,
   "metadata": {},
   "outputs": [],
   "source": [
    "df = df.join(df_running_listens.select(['userId','ts','running_listens_mon']),\n",
    "                                       on=['userId','ts'],how='left')"
   ]
  },
  {
   "cell_type": "code",
   "execution_count": 46,
   "metadata": {},
   "outputs": [
    {
     "data": {
      "text/plain": [
       "[Row(userId='10', ts=1539837270000, date=datetime.date(2018, 10, 18), artist='Samy Deluxe', auth='Logged In', firstName='Brycen', gender='M', itemInSession=14, lastName='Bradley', length=212.47955, level='paid', location='Laurel, MS', method='PUT', page='NextSong', registration=1538159495000, sessionId=595, song='Verdammtnochma', status=200, userAgent='\"Mozilla/5.0 (Macintosh; Intel Mac OS X 10_9_4) AppleWebKit/537.36 (KHTML, like Gecko) Chrome/36.0.1985.143 Safari/537.36\"', state='MS', hour=4, day=18, month=10, year=2018, listen_flag=1, days_consec_listen=0, days_since_last_listen=10, running_listens_mon=90)]"
      ]
     },
     "execution_count": 46,
     "metadata": {},
     "output_type": "execute_result"
    }
   ],
   "source": [
    "df.take(1)"
   ]
  },
  {
   "cell_type": "code",
   "execution_count": 47,
   "metadata": {},
   "outputs": [
    {
     "name": "stdout",
     "output_type": "stream",
     "text": [
      "root\n",
      " |-- userId: string (nullable = true)\n",
      " |-- ts: long (nullable = true)\n",
      " |-- date: date (nullable = true)\n",
      " |-- artist: string (nullable = true)\n",
      " |-- auth: string (nullable = true)\n",
      " |-- firstName: string (nullable = true)\n",
      " |-- gender: string (nullable = true)\n",
      " |-- itemInSession: long (nullable = true)\n",
      " |-- lastName: string (nullable = true)\n",
      " |-- length: double (nullable = true)\n",
      " |-- level: string (nullable = true)\n",
      " |-- location: string (nullable = true)\n",
      " |-- method: string (nullable = true)\n",
      " |-- page: string (nullable = true)\n",
      " |-- registration: long (nullable = true)\n",
      " |-- sessionId: long (nullable = true)\n",
      " |-- song: string (nullable = true)\n",
      " |-- status: long (nullable = true)\n",
      " |-- userAgent: string (nullable = true)\n",
      " |-- state: string (nullable = true)\n",
      " |-- hour: integer (nullable = true)\n",
      " |-- day: integer (nullable = true)\n",
      " |-- month: integer (nullable = true)\n",
      " |-- year: integer (nullable = true)\n",
      " |-- listen_flag: integer (nullable = true)\n",
      " |-- days_consec_listen: long (nullable = true)\n",
      " |-- days_since_last_listen: integer (nullable = true)\n",
      " |-- running_listens_mon: integer (nullable = true)\n",
      "\n"
     ]
    }
   ],
   "source": [
    "df.printSchema()"
   ]
  },
  {
   "cell_type": "code",
   "execution_count": 48,
   "metadata": {},
   "outputs": [
    {
     "name": "stdout",
     "output_type": "stream",
     "text": [
      "+------+----------+----------+-------------------+\n",
      "|userId|      date|      page|running_listens_mon|\n",
      "+------+----------+----------+-------------------+\n",
      "|    10|2018-10-08|  NextSong|                 22|\n",
      "|    10|2018-10-08|  NextSong|                 23|\n",
      "|    10|2018-10-08|  NextSong|                 24|\n",
      "|    10|2018-10-08|  NextSong|                 25|\n",
      "|    10|2018-10-08|  NextSong|                 26|\n",
      "|    10|2018-10-08|  NextSong|                 27|\n",
      "|    10|2018-10-08|  NextSong|                 28|\n",
      "|    10|2018-10-08| Thumbs Up|               null|\n",
      "|    10|2018-10-08|  NextSong|                 29|\n",
      "|    10|2018-10-08|  NextSong|                 30|\n",
      "|    10|2018-10-08|  NextSong|                 31|\n",
      "|    10|2018-10-08|Add Friend|               null|\n",
      "|    10|2018-10-08|Add Friend|               null|\n",
      "|    10|2018-10-08|  NextSong|                 32|\n",
      "|    10|2018-10-08|  NextSong|                 33|\n",
      "|    10|2018-10-08| Thumbs Up|               null|\n",
      "|    10|2018-10-08|  NextSong|                 34|\n",
      "|    10|2018-10-08|  NextSong|                 35|\n",
      "|    10|2018-10-08|  NextSong|                 36|\n",
      "|    10|2018-10-08|  NextSong|                 37|\n",
      "+------+----------+----------+-------------------+\n",
      "only showing top 20 rows\n",
      "\n"
     ]
    }
   ],
   "source": [
    "df.select(['userId','date','page','running_listens_mon']).sort(['userId','ts']).show()"
   ]
  },
  {
   "cell_type": "markdown",
   "metadata": {},
   "source": [
    "Let's see how many nulls we have..."
   ]
  },
  {
   "cell_type": "code",
   "execution_count": 49,
   "metadata": {},
   "outputs": [
    {
     "data": {
      "text/plain": [
       "49400"
      ]
     },
     "execution_count": 49,
     "metadata": {},
     "output_type": "execute_result"
    }
   ],
   "source": [
    "df.where(col('running_listens_mon').isNull()).count()"
   ]
  },
  {
   "cell_type": "code",
   "execution_count": 50,
   "metadata": {},
   "outputs": [],
   "source": [
    "df = df.sort(['userId','ts'])"
   ]
  },
  {
   "cell_type": "code",
   "execution_count": 51,
   "metadata": {},
   "outputs": [],
   "source": [
    "windowval = Window.partitionBy(col('userId')).orderBy(col('ts'))\n",
    "\n",
    "running_listens_lag = lag(df['running_listens_mon']).over(windowval)"
   ]
  },
  {
   "cell_type": "code",
   "execution_count": 52,
   "metadata": {},
   "outputs": [],
   "source": [
    "df = df.withColumn('running_listens_mon_fill', \n",
    "              when(col('running_listens_mon').isNull(),running_listens_lag) \\\n",
    "                .otherwise(col('running_listens_mon')))"
   ]
  },
  {
   "cell_type": "code",
   "execution_count": 53,
   "metadata": {},
   "outputs": [
    {
     "name": "stdout",
     "output_type": "stream",
     "text": [
      "+------+-------------+----------+-------------------+------------------------+\n",
      "|userId|           ts|      page|running_listens_mon|running_listens_mon_fill|\n",
      "+------+-------------+----------+-------------------+------------------------+\n",
      "|    10|1538965220000|  NextSong|                 22|                      22|\n",
      "|    10|1538965485000|  NextSong|                 23|                      23|\n",
      "|    10|1538965685000|  NextSong|                 24|                      24|\n",
      "|    10|1538965893000|  NextSong|                 25|                      25|\n",
      "|    10|1538966419000|  NextSong|                 26|                      26|\n",
      "|    10|1538966691000|  NextSong|                 27|                      27|\n",
      "|    10|1538966898000|  NextSong|                 28|                      28|\n",
      "|    10|1538966899000| Thumbs Up|               null|                      28|\n",
      "|    10|1538967004000|  NextSong|                 29|                      29|\n",
      "|    10|1538967243000|  NextSong|                 30|                      30|\n",
      "|    10|1538967507000|  NextSong|                 31|                      31|\n",
      "|    10|1538967508000|Add Friend|               null|                      31|\n",
      "|    10|1538967509000|Add Friend|               null|                    null|\n",
      "|    10|1538967870000|  NextSong|                 32|                      32|\n",
      "|    10|1538968110000|  NextSong|                 33|                      33|\n",
      "|    10|1538968111000| Thumbs Up|               null|                      33|\n",
      "|    10|1538968316000|  NextSong|                 34|                      34|\n",
      "|    10|1538968748000|  NextSong|                 35|                      35|\n",
      "|    10|1538968907000|  NextSong|                 36|                      36|\n",
      "|    10|1538969140000|  NextSong|                 37|                      37|\n",
      "+------+-------------+----------+-------------------+------------------------+\n",
      "only showing top 20 rows\n",
      "\n"
     ]
    }
   ],
   "source": [
    "df.select(['userId','ts','page','running_listens_mon','running_listens_mon_fill']) \\\n",
    "    .sort(['userId','ts']) \\\n",
    "    .show()"
   ]
  },
  {
   "cell_type": "code",
   "execution_count": 54,
   "metadata": {},
   "outputs": [
    {
     "data": {
      "text/plain": [
       "10389"
      ]
     },
     "execution_count": 54,
     "metadata": {},
     "output_type": "execute_result"
    }
   ],
   "source": [
    "df.where(col('running_listens_mon_fill').isNull()).count()"
   ]
  },
  {
   "cell_type": "markdown",
   "metadata": {},
   "source": [
    "Still have null values that have to be filled. Re-running the lag as a loop."
   ]
  },
  {
   "cell_type": "code",
   "execution_count": 55,
   "metadata": {},
   "outputs": [
    {
     "data": {
      "text/plain": [
       "10389"
      ]
     },
     "execution_count": 55,
     "metadata": {},
     "output_type": "execute_result"
    }
   ],
   "source": [
    "n_null = df.where(col('running_listens_mon_fill').isNull()).count()\n",
    "n_null"
   ]
  },
  {
   "cell_type": "code",
   "execution_count": 56,
   "metadata": {},
   "outputs": [
    {
     "name": "stdout",
     "output_type": "stream",
     "text": [
      "Loop 1\n",
      "Null values left: 2979\n",
      "Loop 2\n",
      "Null values left: 1023\n",
      "Loop 3\n",
      "Null values left: 447\n",
      "Loop 4\n",
      "Null values left: 253\n",
      "Loop 5\n",
      "Null values left: 183\n",
      "Loop 6\n",
      "Null values left: 156\n",
      "Loop 7\n",
      "Null values left: 142\n",
      "Loop 8\n",
      "Null values left: 136\n",
      "Loop 9\n",
      "Null values left: 134\n",
      "Loop 10\n",
      "Null values left: 132\n",
      "Loop 11\n",
      "Null values left: 131\n",
      "Breaking loop to save computation time. Filling remaining null values with average.\n",
      "Average of the column: 1099\n",
      "Loop 12\n",
      "Null values left: 0\n",
      "Breaking loop to save computation time. Filling remaining null values with average.\n",
      "Average of the column: 1099\n",
      "Done.\n",
      "Number of null values remaining: 0\n"
     ]
    }
   ],
   "source": [
    "i = 0\n",
    "while n_null > 0:\n",
    "    # Re-creating a lag column based on the filled values\n",
    "    running_listens_lag = lag(df['running_listens_mon_fill']).over(windowval)\n",
    "    \n",
    "    # Replacing 'running_listens_mon_fill' with new filled values\n",
    "    df = df.withColumn('running_listens_mon_fill', \n",
    "                  when(col('running_listens_mon_fill').isNull(),running_listens_lag) \\\n",
    "                    .otherwise(col('running_listens_mon_fill')))\n",
    "\n",
    "    n_null = df.where(col('running_listens_mon_fill').isNull()).count()\n",
    "    i += 1\n",
    "    print(f'Loop {i}\\nNull values left: {n_null}')\n",
    "    \n",
    "    if i >10:\n",
    "        print('Breaking loop to save computation time. Filling remaining null values with average.')\n",
    "        filled_average = df.agg(Favg(col('running_listens_mon_fill'))).collect()[0][0]\n",
    "        print(f'Average of the column: {round(filled_average)}')\n",
    "        df = df.fillna(round(filled_average),subset=['running_listens_mon_fill'])\n",
    "\n",
    "print(f'Done.\\nNumber of null values remaining: {n_null}')"
   ]
  },
  {
   "cell_type": "markdown",
   "metadata": {},
   "source": [
    "#### NOTE TO SELF: Consider Adding these as features"
   ]
  },
  {
   "cell_type": "markdown",
   "metadata": {},
   "source": [
    "#### Calculating User Average Listens Each Month"
   ]
  },
  {
   "cell_type": "code",
   "execution_count": null,
   "metadata": {},
   "outputs": [],
   "source": [
    "# df_running_listens \\\n",
    "#         .groupBy(col('userId'),date_trunc('month',col('date'))) \\ # Grouping by each user, then month\n",
    "#         .Fmax(col('running_listens_mon')) \\ # Getting max user listens\n",
    "#         .show()"
   ]
  },
  {
   "cell_type": "markdown",
   "metadata": {},
   "source": [
    "Making a song repeat feature"
   ]
  },
  {
   "cell_type": "markdown",
   "metadata": {},
   "source": [
    "Making a thumbs-up in past month feature"
   ]
  },
  {
   "cell_type": "markdown",
   "metadata": {},
   "source": [
    "Making a add-to-playlist in past month feature"
   ]
  },
  {
   "cell_type": "markdown",
   "metadata": {},
   "source": [
    "Making a thumbs-down in past month feature"
   ]
  },
  {
   "cell_type": "markdown",
   "metadata": {},
   "source": [
    "### Define Churn\n",
    "\n",
    "Once you've done some preliminary analysis, create a column `Churn` to use as the label for your model. I suggest using the `Cancellation Confirmation` events to define your churn, which happen for both paid and free users. As a bonus task, you can also look into the `Downgrade` events."
   ]
  },
  {
   "cell_type": "code",
   "execution_count": 57,
   "metadata": {},
   "outputs": [],
   "source": [
    "def label_churn(x):\n",
    "    if x=='Cancellation Confirmation':\n",
    "        return 1\n",
    "    elif x=='Downgrade':\n",
    "        return 1\n",
    "    else:\n",
    "        return 0\n",
    "udf_label_churn = udf(label_churn, IntegerType())\n",
    "\n",
    "df = df.withColumn('Churn',udf_label_churn(col('page')))"
   ]
  },
  {
   "cell_type": "code",
   "execution_count": 58,
   "metadata": {},
   "outputs": [
    {
     "data": {
      "text/plain": [
       "[Row(userId='100010', ts=1539003534000, date=datetime.date(2018, 10, 8), artist='Sleeping With Sirens', auth='Logged In', firstName='Darianna', gender='F', itemInSession=0, lastName='Carpenter', length=202.97098, level='free', location='Bridgeport-Stamford-Norwalk, CT', method='PUT', page='NextSong', registration=1538016340000, sessionId=31, song='Captain Tyin Knots VS Mr Walkway (No Way)', status=200, userAgent='\"Mozilla/5.0 (iPhone; CPU iPhone OS 7_1_2 like Mac OS X) AppleWebKit/537.51.2 (KHTML, like Gecko) Version/7.0 Mobile/11D257 Safari/9537.53\"', state='CT', hour=12, day=8, month=10, year=2018, listen_flag=1, days_consec_listen=0, days_since_last_listen=0, running_listens_mon=1, running_listens_mon_fill=1, Churn=0)]"
      ]
     },
     "execution_count": 58,
     "metadata": {},
     "output_type": "execute_result"
    }
   ],
   "source": [
    "df.take(1)"
   ]
  },
  {
   "cell_type": "markdown",
   "metadata": {},
   "source": [
    "### Explore Data\n",
    "Once you've defined churn, perform some exploratory data analysis to observe the behavior for users who stayed vs users who churned. You can start by exploring aggregates on these two groups of users, observing how much of a specific action they experienced per a certain time unit or number of songs played."
   ]
  },
  {
   "cell_type": "code",
   "execution_count": 59,
   "metadata": {},
   "outputs": [
    {
     "name": "stdout",
     "output_type": "stream",
     "text": [
      "+-----+------+\n",
      "|Churn| count|\n",
      "+-----+------+\n",
      "|    1|  2107|\n",
      "|    0|276047|\n",
      "+-----+------+\n",
      "\n"
     ]
    }
   ],
   "source": [
    "# How many labels?\n",
    "df.groupBy('Churn').agg(count('userId').alias('count')).show()"
   ]
  },
  {
   "cell_type": "code",
   "execution_count": 60,
   "metadata": {},
   "outputs": [
    {
     "data": {
      "text/plain": [
       "171"
      ]
     },
     "execution_count": 60,
     "metadata": {},
     "output_type": "execute_result"
    }
   ],
   "source": [
    "# No. unique churned users\n",
    "df.where(col('Churn')==1).select('userId').dropDuplicates().count()"
   ]
  },
  {
   "cell_type": "markdown",
   "metadata": {},
   "source": [
    "Looking at average of the running listens per month feature"
   ]
  },
  {
   "cell_type": "code",
   "execution_count": 61,
   "metadata": {},
   "outputs": [
    {
     "name": "stdout",
     "output_type": "stream",
     "text": [
      "+-----+------------------------+\n",
      "|Churn|avg(running_listens_mon)|\n",
      "+-----+------------------------+\n",
      "|    1|      1015.5918367346939|\n",
      "|    0|      1106.3705909359219|\n",
      "+-----+------------------------+\n",
      "\n"
     ]
    }
   ],
   "source": [
    "df.groupBy('Churn').agg(Favg(col('running_listens_mon'))).show()"
   ]
  },
  {
   "cell_type": "code",
   "execution_count": 62,
   "metadata": {},
   "outputs": [
    {
     "name": "stdout",
     "output_type": "stream",
     "text": [
      "+-----+-----------------------------+\n",
      "|Churn|avg(running_listens_mon_fill)|\n",
      "+-----+-----------------------------+\n",
      "|    1|           1159.6459420977694|\n",
      "|    0|           1098.1006422819303|\n",
      "+-----+-----------------------------+\n",
      "\n"
     ]
    }
   ],
   "source": [
    "df.groupBy('Churn').agg(Favg(col('running_listens_mon_fill'))).show()"
   ]
  },
  {
   "cell_type": "markdown",
   "metadata": {},
   "source": [
    "Taking a look at Average Listens per user and splitting by whether they churned"
   ]
  },
  {
   "cell_type": "code",
   "execution_count": 68,
   "metadata": {},
   "outputs": [
    {
     "name": "stdout",
     "output_type": "stream",
     "text": [
      "+------+-----------------------------+\n",
      "|userId|max(running_listens_mon_fill)|\n",
      "+------+-----------------------------+\n",
      "|100010|                          275|\n",
      "|200002|                          387|\n",
      "|   125|                            8|\n",
      "|   124|                         4079|\n",
      "|    51|                         2111|\n",
      "+------+-----------------------------+\n",
      "only showing top 5 rows\n",
      "\n"
     ]
    }
   ],
   "source": [
    "df_avg_listens_user = df.groupBy('userId') \\\n",
    "            .agg(Fmax(col('running_listens_mon_fill')))\n",
    "df_avg_listens_user.show(5)"
   ]
  },
  {
   "cell_type": "code",
   "execution_count": 69,
   "metadata": {},
   "outputs": [
    {
     "name": "stdout",
     "output_type": "stream",
     "text": [
      "+------+-----+\n",
      "|userId|Churn|\n",
      "+------+-----+\n",
      "|200002|    1|\n",
      "|   125|    1|\n",
      "|   124|    1|\n",
      "|    51|    1|\n",
      "|    15|    1|\n",
      "+------+-----+\n",
      "only showing top 5 rows\n",
      "\n"
     ]
    }
   ],
   "source": [
    "df_churned_users = df.where(col('Churn')==1).select(['userId','Churn']).dropDuplicates(['userId'])\n",
    "df_churned_users.show(5)"
   ]
  },
  {
   "cell_type": "code",
   "execution_count": 77,
   "metadata": {},
   "outputs": [
    {
     "data": {
      "text/plain": [
       "171"
      ]
     },
     "execution_count": 77,
     "metadata": {},
     "output_type": "execute_result"
    }
   ],
   "source": [
    "df_churned_users.count()"
   ]
  },
  {
   "cell_type": "code",
   "execution_count": 74,
   "metadata": {},
   "outputs": [],
   "source": [
    "df_avg_listens_user_churn = df_avg_listens_user.join(df_churned_users,['userId'],'left').fillna(0,['Churn'])"
   ]
  },
  {
   "cell_type": "code",
   "execution_count": 75,
   "metadata": {},
   "outputs": [
    {
     "name": "stdout",
     "output_type": "stream",
     "text": [
      "+------+-----------------------------+-----+\n",
      "|userId|max(running_listens_mon_fill)|Churn|\n",
      "+------+-----------------------------+-----+\n",
      "|100010|                          275|    0|\n",
      "|200002|                          387|    1|\n",
      "|   125|                            8|    1|\n",
      "|   124|                         4079|    1|\n",
      "|    51|                         2111|    1|\n",
      "|     7|                          150|    0|\n",
      "|    15|                         1914|    1|\n",
      "|    54|                         2841|    1|\n",
      "|   155|                         1099|    1|\n",
      "|100014|                          257|    1|\n",
      "+------+-----------------------------+-----+\n",
      "only showing top 10 rows\n",
      "\n"
     ]
    }
   ],
   "source": [
    "df_avg_listens_user_churn.show(10)"
   ]
  },
  {
   "cell_type": "code",
   "execution_count": 76,
   "metadata": {},
   "outputs": [
    {
     "name": "stdout",
     "output_type": "stream",
     "text": [
      "+-----+------------------+\n",
      "|Churn|   Average Listens|\n",
      "+-----+------------------+\n",
      "|    1|1422.6783625730993|\n",
      "|    0| 727.6851851851852|\n",
      "+-----+------------------+\n",
      "\n"
     ]
    }
   ],
   "source": [
    "df_avg_listens_user_churn \\\n",
    "    .groupBy('Churn') \\\n",
    "    .agg(Favg(col('max(running_listens_mon_fill)')) \\\n",
    "            .alias('Average Listens')) \\\n",
    "    .show()"
   ]
  },
  {
   "cell_type": "markdown",
   "metadata": {},
   "source": [
    "Interesting. I would've guessed that the churned users would have less average listens than users who didn't churn.\n",
    "\n",
    "The results would probably look a lot different if this was applied to the entire dataset. 171/225 unique users in this smaller dataset churned."
   ]
  },
  {
   "cell_type": "markdown",
   "metadata": {},
   "source": [
    "---"
   ]
  },
  {
   "cell_type": "markdown",
   "metadata": {},
   "source": [
    "Taking a look at days since last listen for churned users"
   ]
  },
  {
   "cell_type": "code",
   "execution_count": 81,
   "metadata": {},
   "outputs": [],
   "source": [
    "df_last_listen_churn = df.where(col('Churn')==1) \\\n",
    "                        .dropDuplicates(['userId']) \\\n",
    "                        .select(['userId','page','days_since_last_listen'])"
   ]
  },
  {
   "cell_type": "code",
   "execution_count": 83,
   "metadata": {},
   "outputs": [
    {
     "name": "stdout",
     "output_type": "stream",
     "text": [
      "+------+--------------------+----------------------+\n",
      "|userId|                page|days_since_last_listen|\n",
      "+------+--------------------+----------------------+\n",
      "|200002|           Downgrade|                     2|\n",
      "|   125|Cancellation Conf...|                     0|\n",
      "|   124|           Downgrade|                     0|\n",
      "|    51|           Downgrade|                     0|\n",
      "|    15|           Downgrade|                     0|\n",
      "|    54|           Downgrade|                     0|\n",
      "|   155|           Downgrade|                     7|\n",
      "|100014|           Downgrade|                     4|\n",
      "|   132|           Downgrade|                     2|\n",
      "|   101|           Downgrade|                     1|\n",
      "|    11|           Downgrade|                     6|\n",
      "|   138|           Downgrade|                     2|\n",
      "|300017|           Downgrade|                     1|\n",
      "|100021|Cancellation Conf...|                    22|\n",
      "|    29|           Downgrade|                     1|\n",
      "|    69|           Downgrade|                     4|\n",
      "|    42|           Downgrade|                     1|\n",
      "|    73|           Downgrade|                     5|\n",
      "|    87|           Downgrade|                     1|\n",
      "|     3|           Downgrade|                     3|\n",
      "+------+--------------------+----------------------+\n",
      "only showing top 20 rows\n",
      "\n"
     ]
    }
   ],
   "source": [
    "df_last_listen_churn.show()"
   ]
  },
  {
   "cell_type": "code",
   "execution_count": 86,
   "metadata": {},
   "outputs": [
    {
     "name": "stdout",
     "output_type": "stream",
     "text": [
      "+--------------------------+\n",
      "|Avg Days Since Last Listen|\n",
      "+--------------------------+\n",
      "|        3.1871345029239766|\n",
      "+--------------------------+\n",
      "\n"
     ]
    }
   ],
   "source": [
    "df_last_listen_churn.select(Favg(col('days_since_last_listen')).alias('Avg Days Since Last Listen')).show()"
   ]
  },
  {
   "cell_type": "markdown",
   "metadata": {},
   "source": [
    "# Feature Engineering\n",
    "Once you've familiarized yourself with the data, build out the features you find promising to train your model on. To work with the full dataset, you can follow the following steps.\n",
    "- Write a script to extract the necessary features from the smaller subset of data\n",
    "- Ensure that your script is scalable, using the best practices discussed in Lesson 3\n",
    "- Try your script on the full data set, debugging your script if necessary\n",
    "\n",
    "If you are working in the classroom workspace, you can just extract features based on the small subset of data contained here. Be sure to transfer over this work to the larger dataset when you work on your Spark cluster."
   ]
  },
  {
   "cell_type": "markdown",
   "metadata": {},
   "source": [
    "## Prepping Data For Model"
   ]
  },
  {
   "cell_type": "code",
   "execution_count": 88,
   "metadata": {},
   "outputs": [],
   "source": [
    "gender_indexer = StringIndexer(inputCol='gender',outputCol='gender_indexed')\n",
    "fitted_gender_indexer = gender_indexer.fit(df)\n",
    "df = fitted_gender_indexer.transform(df)"
   ]
  },
  {
   "cell_type": "code",
   "execution_count": 89,
   "metadata": {},
   "outputs": [
    {
     "name": "stdout",
     "output_type": "stream",
     "text": [
      "root\n",
      " |-- userId: string (nullable = true)\n",
      " |-- ts: long (nullable = true)\n",
      " |-- date: date (nullable = true)\n",
      " |-- artist: string (nullable = true)\n",
      " |-- auth: string (nullable = true)\n",
      " |-- firstName: string (nullable = true)\n",
      " |-- gender: string (nullable = true)\n",
      " |-- itemInSession: long (nullable = true)\n",
      " |-- lastName: string (nullable = true)\n",
      " |-- length: double (nullable = true)\n",
      " |-- level: string (nullable = true)\n",
      " |-- location: string (nullable = true)\n",
      " |-- method: string (nullable = true)\n",
      " |-- page: string (nullable = true)\n",
      " |-- registration: long (nullable = true)\n",
      " |-- sessionId: long (nullable = true)\n",
      " |-- song: string (nullable = true)\n",
      " |-- status: long (nullable = true)\n",
      " |-- userAgent: string (nullable = true)\n",
      " |-- state: string (nullable = true)\n",
      " |-- hour: integer (nullable = true)\n",
      " |-- day: integer (nullable = true)\n",
      " |-- month: integer (nullable = true)\n",
      " |-- year: integer (nullable = true)\n",
      " |-- listen_flag: integer (nullable = true)\n",
      " |-- days_consec_listen: long (nullable = true)\n",
      " |-- days_since_last_listen: integer (nullable = true)\n",
      " |-- running_listens_mon: integer (nullable = true)\n",
      " |-- running_listens_mon_fill: integer (nullable = true)\n",
      " |-- Churn: integer (nullable = true)\n",
      " |-- gender_indexed: double (nullable = false)\n",
      "\n"
     ]
    }
   ],
   "source": [
    "df.printSchema()"
   ]
  },
  {
   "cell_type": "code",
   "execution_count": 90,
   "metadata": {},
   "outputs": [],
   "source": [
    "assembler = VectorAssembler(inputCols=['hour','day','month','days_consec_listen',\n",
    "                                       'days_since_last_listen','running_listens_mon_fill','gender_indexed'],\n",
    "                            outputCol='features')\n",
    "df = assembler.transform(df)"
   ]
  },
  {
   "cell_type": "code",
   "execution_count": 93,
   "metadata": {},
   "outputs": [],
   "source": [
    "df_model = df.select(col('features'),col('Churn').alias('label'))"
   ]
  },
  {
   "cell_type": "markdown",
   "metadata": {},
   "source": [
    "# Modeling\n",
    "Split the full dataset into train, test, and validation sets. Test out several of the machine learning methods you learned. Evaluate the accuracy of the various models, tuning parameters as necessary. Determine your winning model based on test accuracy and report results on the validation set. Since the churned users are a fairly small subset, I suggest using F1 score as the metric to optimize."
   ]
  },
  {
   "cell_type": "markdown",
   "metadata": {},
   "source": [
    "--- \n",
    "Example workflow for pipeline and cross validation fit"
   ]
  },
  {
   "cell_type": "markdown",
   "metadata": {},
   "source": [
    "```python\n",
    "regexTokenizer = RegexTokenizer(inputCol=\"Body\", outputCol=\"words\", pattern=\"\\\\W\")\n",
    "cv = CountVectorizer(inputCol=\"words\", outputCol=\"TF\", vocabSize=1000)\n",
    "idf = IDF(inputCol=\"TF\", outputCol=\"features\")\n",
    "indexer = StringIndexer(inputCol=\"oneTag\", outputCol=\"label\")\n",
    "\n",
    "lr =  LogisticRegression(maxIter=10, regParam=0.0, elasticNetParam=0)\n",
    "\n",
    "pipeline = Pipeline(stages=[regexTokenizer, cv, idf, indexer, lr])\n",
    "\n",
    "paramGrid = ParamGridBuilder() \\\n",
    "    .addGrid(cv.vocabSize,[1000, 5000]) \\\n",
    "    .addGrid(lr.regParam,[0.0, 0.1]) \\\n",
    "    .build()\n",
    "\n",
    "\n",
    "crossval = CrossValidator(estimator=pipeline,\n",
    "                          estimatorParamMaps=paramGrid,\n",
    "                          evaluator=MulticlassClassificationEvaluator(),\n",
    "                          numFolds=3)\n",
    "\n",
    "cvModel_q1 = crossval.fit(rest)\n",
    "```"
   ]
  },
  {
   "cell_type": "markdown",
   "metadata": {},
   "source": [
    "---\n",
    "Example scaler\n",
    "\n",
    "```python\n",
    "scaler_q2 = StandardScaler(inputCol=\"DescVec\", outputCol=\"DescVecStandardScaler4\", withMean=False, withStd=False)\n",
    "scalerModel_q2 = scaler_q2.fit(df)\n",
    "df = scalerModel_q2.transform(df)\n",
    "```"
   ]
  },
  {
   "cell_type": "code",
   "execution_count": 91,
   "metadata": {},
   "outputs": [],
   "source": [
    "# Maybe no need for Scaler?\n",
    "# scaler = StandardScaler(inputCol='features', outputCol='features_scaled', withMean=True, withStd=True)"
   ]
  },
  {
   "cell_type": "code",
   "execution_count": 94,
   "metadata": {},
   "outputs": [],
   "source": [
    "lr = LogisticRegression(maxIter=30)\n",
    "gbt = GBTClassifier()\n",
    "rf = RandomForestClassifier()"
   ]
  },
  {
   "cell_type": "code",
   "execution_count": null,
   "metadata": {},
   "outputs": [],
   "source": []
  },
  {
   "cell_type": "markdown",
   "metadata": {},
   "source": [
    "# Final Steps\n",
    "Clean up your code, adding comments and renaming variables to make the code easier to read and maintain. Refer to the Spark Project Overview page and Data Scientist Capstone Project Rubric to make sure you are including all components of the capstone project and meet all expectations. Remember, this includes thorough documentation in a README file in a Github repository, as well as a web app or blog post."
   ]
  },
  {
   "cell_type": "code",
   "execution_count": null,
   "metadata": {},
   "outputs": [],
   "source": []
  }
 ],
 "metadata": {
  "kernelspec": {
   "display_name": "Python 3",
   "language": "python",
   "name": "python3"
  },
  "language_info": {
   "codemirror_mode": {
    "name": "ipython",
    "version": 3
   },
   "file_extension": ".py",
   "mimetype": "text/x-python",
   "name": "python",
   "nbconvert_exporter": "python",
   "pygments_lexer": "ipython3",
   "version": "3.6.6"
  }
 },
 "nbformat": 4,
 "nbformat_minor": 2
}
